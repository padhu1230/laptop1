{
 "cells": [
  {
   "cell_type": "code",
   "execution_count": 5,
   "metadata": {},
   "outputs": [],
   "source": [
    "\n",
    "import pandas as pd\n",
    "import numpy as np\n",
    "import streamlit as st\n",
    "import matplotlib.pyplot  as plt\n",
    "import seaborn as sns"
   ]
  },
  {
   "cell_type": "code",
   "execution_count": 6,
   "metadata": {},
   "outputs": [],
   "source": [
    "df=pd.read_csv(r\"C:\\Users\\ASUS\\Desktop\\data sets\\laptop_details.csv\")"
   ]
  },
  {
   "cell_type": "code",
   "execution_count": 7,
   "metadata": {},
   "outputs": [
    {
     "data": {
      "text/html": [
       "<div>\n",
       "<style scoped>\n",
       "    .dataframe tbody tr th:only-of-type {\n",
       "        vertical-align: middle;\n",
       "    }\n",
       "\n",
       "    .dataframe tbody tr th {\n",
       "        vertical-align: top;\n",
       "    }\n",
       "\n",
       "    .dataframe thead th {\n",
       "        text-align: right;\n",
       "    }\n",
       "</style>\n",
       "<table border=\"1\" class=\"dataframe\">\n",
       "  <thead>\n",
       "    <tr style=\"text-align: right;\">\n",
       "      <th></th>\n",
       "      <th>Product</th>\n",
       "      <th>Rating</th>\n",
       "      <th>MRP</th>\n",
       "      <th>Feature</th>\n",
       "    </tr>\n",
       "  </thead>\n",
       "  <tbody>\n",
       "    <tr>\n",
       "      <th>0</th>\n",
       "      <td>Lenovo IdeaPad 3 Core i3 11th Gen - (8 GB/256 ...</td>\n",
       "      <td>4.2</td>\n",
       "      <td>₹36,990</td>\n",
       "      <td>Intel Core i3 Processor (11th Gen)8 GB DDR4 RA...</td>\n",
       "    </tr>\n",
       "    <tr>\n",
       "      <th>1</th>\n",
       "      <td>Lenovo IdeaPad 3 Core i3 11th Gen - (8 GB/512 ...</td>\n",
       "      <td>4.2</td>\n",
       "      <td>₹39,990</td>\n",
       "      <td>Intel Core i3 Processor (11th Gen)8 GB DDR4 RA...</td>\n",
       "    </tr>\n",
       "    <tr>\n",
       "      <th>2</th>\n",
       "      <td>ASUS VivoBook 15 (2022) Core i3 10th Gen - (8 ...</td>\n",
       "      <td>4.3</td>\n",
       "      <td>₹32,990</td>\n",
       "      <td>Intel Core i3 Processor (10th Gen)8 GB DDR4 RA...</td>\n",
       "    </tr>\n",
       "    <tr>\n",
       "      <th>3</th>\n",
       "      <td>HP Pavilion Ryzen 5 Hexa Core AMD R5-5600H - (...</td>\n",
       "      <td>4.4</td>\n",
       "      <td>₹49,990</td>\n",
       "      <td>AMD Ryzen 5 Hexa Core Processor8 GB DDR4 RAM64...</td>\n",
       "    </tr>\n",
       "    <tr>\n",
       "      <th>4</th>\n",
       "      <td>ASUS TUF Gaming F15 Core i5 10th Gen - (8 GB/5...</td>\n",
       "      <td>4.4</td>\n",
       "      <td>₹49,990</td>\n",
       "      <td>Intel Core i5 Processor (10th Gen)8 GB DDR4 RA...</td>\n",
       "    </tr>\n",
       "  </tbody>\n",
       "</table>\n",
       "</div>"
      ],
      "text/plain": [
       "                                             Product  Rating      MRP  \\\n",
       "0  Lenovo IdeaPad 3 Core i3 11th Gen - (8 GB/256 ...     4.2  ₹36,990   \n",
       "1  Lenovo IdeaPad 3 Core i3 11th Gen - (8 GB/512 ...     4.2  ₹39,990   \n",
       "2  ASUS VivoBook 15 (2022) Core i3 10th Gen - (8 ...     4.3  ₹32,990   \n",
       "3  HP Pavilion Ryzen 5 Hexa Core AMD R5-5600H - (...     4.4  ₹49,990   \n",
       "4  ASUS TUF Gaming F15 Core i5 10th Gen - (8 GB/5...     4.4  ₹49,990   \n",
       "\n",
       "                                             Feature  \n",
       "0  Intel Core i3 Processor (11th Gen)8 GB DDR4 RA...  \n",
       "1  Intel Core i3 Processor (11th Gen)8 GB DDR4 RA...  \n",
       "2  Intel Core i3 Processor (10th Gen)8 GB DDR4 RA...  \n",
       "3  AMD Ryzen 5 Hexa Core Processor8 GB DDR4 RAM64...  \n",
       "4  Intel Core i5 Processor (10th Gen)8 GB DDR4 RA...  "
      ]
     },
     "execution_count": 7,
     "metadata": {},
     "output_type": "execute_result"
    }
   ],
   "source": [
    "df.head()"
   ]
  },
  {
   "cell_type": "code",
   "execution_count": 8,
   "metadata": {},
   "outputs": [],
   "source": [
    "import re \n",
    "regex = r'^(?:AMD|Intel|M1)[\\s\\w]+Processor'\n",
    "\n",
    "df['Processor'] = df['Feature'].apply(lambda x : re.findall(regex, x))"
   ]
  },
  {
   "cell_type": "code",
   "execution_count": 9,
   "metadata": {},
   "outputs": [
    {
     "name": "stdout",
     "output_type": "stream",
     "text": [
      "['8 GB DDR4 RAM']\n"
     ]
    }
   ],
   "source": [
    "temp = df['Feature'][100]\n",
    "\n",
    "regex = r'\\d+\\sGB[\\s\\w]+RAM'\n",
    "\n",
    "fun = lambda x : re.findall(regex, x)\n",
    "\n",
    "print(fun(temp))"
   ]
  },
  {
   "cell_type": "code",
   "execution_count": 10,
   "metadata": {},
   "outputs": [],
   "source": [
    "regex = r'\\d+\\sGB[\\s\\w]+RAM'\n",
    "\n",
    "df['RAM'] = df['Feature'].apply(lambda x : re.findall(regex, x))"
   ]
  },
  {
   "cell_type": "code",
   "execution_count": 11,
   "metadata": {},
   "outputs": [],
   "source": [
    "regex = r'[\\d]+[\\s]bit[\\s\\w]+Operating System'\n",
    "\n",
    "df['OS'] = df['Feature'].apply(lambda x : re.findall(regex, x))"
   ]
  },
  {
   "cell_type": "code",
   "execution_count": 12,
   "metadata": {},
   "outputs": [],
   "source": [
    "regex = r'[\\d]+\\s(?:GB|TB)\\s(?:HDD|SSD)'\n",
    "\n",
    "df['Storage'] = df['Feature'].apply(lambda x : re.findall(regex, x))"
   ]
  },
  {
   "cell_type": "code",
   "execution_count": 13,
   "metadata": {},
   "outputs": [],
   "source": [
    "regex = r'^\\w+'\n",
    "\n",
    "df['Brand'] = df['Product'].apply(lambda x : re.findall(regex, x))"
   ]
  },
  {
   "cell_type": "code",
   "execution_count": 14,
   "metadata": {},
   "outputs": [
    {
     "data": {
      "text/html": [
       "<div>\n",
       "<style scoped>\n",
       "    .dataframe tbody tr th:only-of-type {\n",
       "        vertical-align: middle;\n",
       "    }\n",
       "\n",
       "    .dataframe tbody tr th {\n",
       "        vertical-align: top;\n",
       "    }\n",
       "\n",
       "    .dataframe thead th {\n",
       "        text-align: right;\n",
       "    }\n",
       "</style>\n",
       "<table border=\"1\" class=\"dataframe\">\n",
       "  <thead>\n",
       "    <tr style=\"text-align: right;\">\n",
       "      <th></th>\n",
       "      <th>Product</th>\n",
       "      <th>Rating</th>\n",
       "      <th>MRP</th>\n",
       "      <th>Feature</th>\n",
       "      <th>Processor</th>\n",
       "      <th>RAM</th>\n",
       "      <th>OS</th>\n",
       "      <th>Storage</th>\n",
       "      <th>Brand</th>\n",
       "    </tr>\n",
       "  </thead>\n",
       "  <tbody>\n",
       "    <tr>\n",
       "      <th>0</th>\n",
       "      <td>Lenovo IdeaPad 3 Core i3 11th Gen - (8 GB/256 ...</td>\n",
       "      <td>4.2</td>\n",
       "      <td>₹36,990</td>\n",
       "      <td>Intel Core i3 Processor (11th Gen)8 GB DDR4 RA...</td>\n",
       "      <td>[Intel Core i3 Processor]</td>\n",
       "      <td>[8 GB DDR4 RAM]</td>\n",
       "      <td>[64 bit Windows 11 Operating System]</td>\n",
       "      <td>[256 GB SSD]</td>\n",
       "      <td>[Lenovo]</td>\n",
       "    </tr>\n",
       "    <tr>\n",
       "      <th>1</th>\n",
       "      <td>Lenovo IdeaPad 3 Core i3 11th Gen - (8 GB/512 ...</td>\n",
       "      <td>4.2</td>\n",
       "      <td>₹39,990</td>\n",
       "      <td>Intel Core i3 Processor (11th Gen)8 GB DDR4 RA...</td>\n",
       "      <td>[Intel Core i3 Processor]</td>\n",
       "      <td>[8 GB DDR4 RAM]</td>\n",
       "      <td>[64 bit Windows 11 Operating System]</td>\n",
       "      <td>[512 GB SSD]</td>\n",
       "      <td>[Lenovo]</td>\n",
       "    </tr>\n",
       "    <tr>\n",
       "      <th>2</th>\n",
       "      <td>ASUS VivoBook 15 (2022) Core i3 10th Gen - (8 ...</td>\n",
       "      <td>4.3</td>\n",
       "      <td>₹32,990</td>\n",
       "      <td>Intel Core i3 Processor (10th Gen)8 GB DDR4 RA...</td>\n",
       "      <td>[Intel Core i3 Processor]</td>\n",
       "      <td>[8 GB DDR4 RAM]</td>\n",
       "      <td>[64 bit Windows 11 Operating System]</td>\n",
       "      <td>[512 GB SSD]</td>\n",
       "      <td>[ASUS]</td>\n",
       "    </tr>\n",
       "    <tr>\n",
       "      <th>3</th>\n",
       "      <td>HP Pavilion Ryzen 5 Hexa Core AMD R5-5600H - (...</td>\n",
       "      <td>4.4</td>\n",
       "      <td>₹49,990</td>\n",
       "      <td>AMD Ryzen 5 Hexa Core Processor8 GB DDR4 RAM64...</td>\n",
       "      <td>[AMD Ryzen 5 Hexa Core Processor]</td>\n",
       "      <td>[8 GB DDR4 RAM]</td>\n",
       "      <td>[64 bit Windows 10 Operating System]</td>\n",
       "      <td>[512 GB SSD]</td>\n",
       "      <td>[HP]</td>\n",
       "    </tr>\n",
       "    <tr>\n",
       "      <th>4</th>\n",
       "      <td>ASUS TUF Gaming F15 Core i5 10th Gen - (8 GB/5...</td>\n",
       "      <td>4.4</td>\n",
       "      <td>₹49,990</td>\n",
       "      <td>Intel Core i5 Processor (10th Gen)8 GB DDR4 RA...</td>\n",
       "      <td>[Intel Core i5 Processor]</td>\n",
       "      <td>[8 GB DDR4 RAM]</td>\n",
       "      <td>[]</td>\n",
       "      <td>[512 GB SSD]</td>\n",
       "      <td>[ASUS]</td>\n",
       "    </tr>\n",
       "  </tbody>\n",
       "</table>\n",
       "</div>"
      ],
      "text/plain": [
       "                                             Product  Rating      MRP  \\\n",
       "0  Lenovo IdeaPad 3 Core i3 11th Gen - (8 GB/256 ...     4.2  ₹36,990   \n",
       "1  Lenovo IdeaPad 3 Core i3 11th Gen - (8 GB/512 ...     4.2  ₹39,990   \n",
       "2  ASUS VivoBook 15 (2022) Core i3 10th Gen - (8 ...     4.3  ₹32,990   \n",
       "3  HP Pavilion Ryzen 5 Hexa Core AMD R5-5600H - (...     4.4  ₹49,990   \n",
       "4  ASUS TUF Gaming F15 Core i5 10th Gen - (8 GB/5...     4.4  ₹49,990   \n",
       "\n",
       "                                             Feature  \\\n",
       "0  Intel Core i3 Processor (11th Gen)8 GB DDR4 RA...   \n",
       "1  Intel Core i3 Processor (11th Gen)8 GB DDR4 RA...   \n",
       "2  Intel Core i3 Processor (10th Gen)8 GB DDR4 RA...   \n",
       "3  AMD Ryzen 5 Hexa Core Processor8 GB DDR4 RAM64...   \n",
       "4  Intel Core i5 Processor (10th Gen)8 GB DDR4 RA...   \n",
       "\n",
       "                           Processor              RAM  \\\n",
       "0          [Intel Core i3 Processor]  [8 GB DDR4 RAM]   \n",
       "1          [Intel Core i3 Processor]  [8 GB DDR4 RAM]   \n",
       "2          [Intel Core i3 Processor]  [8 GB DDR4 RAM]   \n",
       "3  [AMD Ryzen 5 Hexa Core Processor]  [8 GB DDR4 RAM]   \n",
       "4          [Intel Core i5 Processor]  [8 GB DDR4 RAM]   \n",
       "\n",
       "                                     OS       Storage     Brand  \n",
       "0  [64 bit Windows 11 Operating System]  [256 GB SSD]  [Lenovo]  \n",
       "1  [64 bit Windows 11 Operating System]  [512 GB SSD]  [Lenovo]  \n",
       "2  [64 bit Windows 11 Operating System]  [512 GB SSD]    [ASUS]  \n",
       "3  [64 bit Windows 10 Operating System]  [512 GB SSD]      [HP]  \n",
       "4                                    []  [512 GB SSD]    [ASUS]  "
      ]
     },
     "execution_count": 14,
     "metadata": {},
     "output_type": "execute_result"
    }
   ],
   "source": [
    "df.head()"
   ]
  },
  {
   "cell_type": "code",
   "execution_count": null,
   "metadata": {},
   "outputs": [],
   "source": []
  },
  {
   "cell_type": "code",
   "execution_count": 15,
   "metadata": {},
   "outputs": [
    {
     "data": {
      "text/html": [
       "<div>\n",
       "<style scoped>\n",
       "    .dataframe tbody tr th:only-of-type {\n",
       "        vertical-align: middle;\n",
       "    }\n",
       "\n",
       "    .dataframe tbody tr th {\n",
       "        vertical-align: top;\n",
       "    }\n",
       "\n",
       "    .dataframe thead th {\n",
       "        text-align: right;\n",
       "    }\n",
       "</style>\n",
       "<table border=\"1\" class=\"dataframe\">\n",
       "  <thead>\n",
       "    <tr style=\"text-align: right;\">\n",
       "      <th></th>\n",
       "      <th>Product</th>\n",
       "      <th>Rating</th>\n",
       "      <th>MRP</th>\n",
       "      <th>Feature</th>\n",
       "      <th>Processor</th>\n",
       "      <th>RAM</th>\n",
       "      <th>OS</th>\n",
       "      <th>Storage</th>\n",
       "      <th>Brand</th>\n",
       "    </tr>\n",
       "  </thead>\n",
       "  <tbody>\n",
       "    <tr>\n",
       "      <th>0</th>\n",
       "      <td>Lenovo IdeaPad 3 Core i3 11th Gen - (8 GB/256 ...</td>\n",
       "      <td>4.2</td>\n",
       "      <td>₹36,990</td>\n",
       "      <td>Intel Core i3 Processor (11th Gen)8 GB DDR4 RA...</td>\n",
       "      <td>[Intel Core i3 Processor]</td>\n",
       "      <td>[8 GB DDR4 RAM]</td>\n",
       "      <td>[64 bit Windows 11 Operating System]</td>\n",
       "      <td>[256 GB SSD]</td>\n",
       "      <td>[Lenovo]</td>\n",
       "    </tr>\n",
       "    <tr>\n",
       "      <th>1</th>\n",
       "      <td>Lenovo IdeaPad 3 Core i3 11th Gen - (8 GB/512 ...</td>\n",
       "      <td>4.2</td>\n",
       "      <td>₹39,990</td>\n",
       "      <td>Intel Core i3 Processor (11th Gen)8 GB DDR4 RA...</td>\n",
       "      <td>[Intel Core i3 Processor]</td>\n",
       "      <td>[8 GB DDR4 RAM]</td>\n",
       "      <td>[64 bit Windows 11 Operating System]</td>\n",
       "      <td>[512 GB SSD]</td>\n",
       "      <td>[Lenovo]</td>\n",
       "    </tr>\n",
       "    <tr>\n",
       "      <th>2</th>\n",
       "      <td>ASUS VivoBook 15 (2022) Core i3 10th Gen - (8 ...</td>\n",
       "      <td>4.3</td>\n",
       "      <td>₹32,990</td>\n",
       "      <td>Intel Core i3 Processor (10th Gen)8 GB DDR4 RA...</td>\n",
       "      <td>[Intel Core i3 Processor]</td>\n",
       "      <td>[8 GB DDR4 RAM]</td>\n",
       "      <td>[64 bit Windows 11 Operating System]</td>\n",
       "      <td>[512 GB SSD]</td>\n",
       "      <td>[ASUS]</td>\n",
       "    </tr>\n",
       "    <tr>\n",
       "      <th>3</th>\n",
       "      <td>HP Pavilion Ryzen 5 Hexa Core AMD R5-5600H - (...</td>\n",
       "      <td>4.4</td>\n",
       "      <td>₹49,990</td>\n",
       "      <td>AMD Ryzen 5 Hexa Core Processor8 GB DDR4 RAM64...</td>\n",
       "      <td>[AMD Ryzen 5 Hexa Core Processor]</td>\n",
       "      <td>[8 GB DDR4 RAM]</td>\n",
       "      <td>[64 bit Windows 10 Operating System]</td>\n",
       "      <td>[512 GB SSD]</td>\n",
       "      <td>[HP]</td>\n",
       "    </tr>\n",
       "    <tr>\n",
       "      <th>4</th>\n",
       "      <td>ASUS TUF Gaming F15 Core i5 10th Gen - (8 GB/5...</td>\n",
       "      <td>4.4</td>\n",
       "      <td>₹49,990</td>\n",
       "      <td>Intel Core i5 Processor (10th Gen)8 GB DDR4 RA...</td>\n",
       "      <td>[Intel Core i5 Processor]</td>\n",
       "      <td>[8 GB DDR4 RAM]</td>\n",
       "      <td>[]</td>\n",
       "      <td>[512 GB SSD]</td>\n",
       "      <td>[ASUS]</td>\n",
       "    </tr>\n",
       "  </tbody>\n",
       "</table>\n",
       "</div>"
      ],
      "text/plain": [
       "                                             Product  Rating      MRP  \\\n",
       "0  Lenovo IdeaPad 3 Core i3 11th Gen - (8 GB/256 ...     4.2  ₹36,990   \n",
       "1  Lenovo IdeaPad 3 Core i3 11th Gen - (8 GB/512 ...     4.2  ₹39,990   \n",
       "2  ASUS VivoBook 15 (2022) Core i3 10th Gen - (8 ...     4.3  ₹32,990   \n",
       "3  HP Pavilion Ryzen 5 Hexa Core AMD R5-5600H - (...     4.4  ₹49,990   \n",
       "4  ASUS TUF Gaming F15 Core i5 10th Gen - (8 GB/5...     4.4  ₹49,990   \n",
       "\n",
       "                                             Feature  \\\n",
       "0  Intel Core i3 Processor (11th Gen)8 GB DDR4 RA...   \n",
       "1  Intel Core i3 Processor (11th Gen)8 GB DDR4 RA...   \n",
       "2  Intel Core i3 Processor (10th Gen)8 GB DDR4 RA...   \n",
       "3  AMD Ryzen 5 Hexa Core Processor8 GB DDR4 RAM64...   \n",
       "4  Intel Core i5 Processor (10th Gen)8 GB DDR4 RA...   \n",
       "\n",
       "                           Processor              RAM  \\\n",
       "0          [Intel Core i3 Processor]  [8 GB DDR4 RAM]   \n",
       "1          [Intel Core i3 Processor]  [8 GB DDR4 RAM]   \n",
       "2          [Intel Core i3 Processor]  [8 GB DDR4 RAM]   \n",
       "3  [AMD Ryzen 5 Hexa Core Processor]  [8 GB DDR4 RAM]   \n",
       "4          [Intel Core i5 Processor]  [8 GB DDR4 RAM]   \n",
       "\n",
       "                                     OS       Storage     Brand  \n",
       "0  [64 bit Windows 11 Operating System]  [256 GB SSD]  [Lenovo]  \n",
       "1  [64 bit Windows 11 Operating System]  [512 GB SSD]  [Lenovo]  \n",
       "2  [64 bit Windows 11 Operating System]  [512 GB SSD]    [ASUS]  \n",
       "3  [64 bit Windows 10 Operating System]  [512 GB SSD]      [HP]  \n",
       "4                                    []  [512 GB SSD]    [ASUS]  "
      ]
     },
     "execution_count": 15,
     "metadata": {},
     "output_type": "execute_result"
    }
   ],
   "source": [
    "df.head()"
   ]
  },
  {
   "cell_type": "code",
   "execution_count": 16,
   "metadata": {},
   "outputs": [],
   "source": [
    "df.Processor = df.Processor.apply(lambda x : ''.join(x))\n",
    "df.RAM = df.RAM.apply(lambda x : ''.join(x))\n",
    "df.OS = df.OS.apply(lambda x : ''.join(x))\n",
    "df.Storage = df.Storage.apply(lambda x : ''.join(x))\n",
    "df.Brand = df.Brand.apply(lambda x : ''.join(x))"
   ]
  },
  {
   "cell_type": "code",
   "execution_count": 17,
   "metadata": {},
   "outputs": [
    {
     "data": {
      "text/html": [
       "<div>\n",
       "<style scoped>\n",
       "    .dataframe tbody tr th:only-of-type {\n",
       "        vertical-align: middle;\n",
       "    }\n",
       "\n",
       "    .dataframe tbody tr th {\n",
       "        vertical-align: top;\n",
       "    }\n",
       "\n",
       "    .dataframe thead th {\n",
       "        text-align: right;\n",
       "    }\n",
       "</style>\n",
       "<table border=\"1\" class=\"dataframe\">\n",
       "  <thead>\n",
       "    <tr style=\"text-align: right;\">\n",
       "      <th></th>\n",
       "      <th>Product</th>\n",
       "      <th>Rating</th>\n",
       "      <th>MRP</th>\n",
       "      <th>Feature</th>\n",
       "      <th>Processor</th>\n",
       "      <th>RAM</th>\n",
       "      <th>OS</th>\n",
       "      <th>Storage</th>\n",
       "      <th>Brand</th>\n",
       "    </tr>\n",
       "  </thead>\n",
       "  <tbody>\n",
       "    <tr>\n",
       "      <th>0</th>\n",
       "      <td>Lenovo IdeaPad 3 Core i3 11th Gen - (8 GB/256 ...</td>\n",
       "      <td>4.2</td>\n",
       "      <td>₹36,990</td>\n",
       "      <td>Intel Core i3 Processor (11th Gen)8 GB DDR4 RA...</td>\n",
       "      <td>Intel Core i3 Processor</td>\n",
       "      <td>8 GB DDR4 RAM</td>\n",
       "      <td>64 bit Windows 11 Operating System</td>\n",
       "      <td>256 GB SSD</td>\n",
       "      <td>Lenovo</td>\n",
       "    </tr>\n",
       "    <tr>\n",
       "      <th>1</th>\n",
       "      <td>Lenovo IdeaPad 3 Core i3 11th Gen - (8 GB/512 ...</td>\n",
       "      <td>4.2</td>\n",
       "      <td>₹39,990</td>\n",
       "      <td>Intel Core i3 Processor (11th Gen)8 GB DDR4 RA...</td>\n",
       "      <td>Intel Core i3 Processor</td>\n",
       "      <td>8 GB DDR4 RAM</td>\n",
       "      <td>64 bit Windows 11 Operating System</td>\n",
       "      <td>512 GB SSD</td>\n",
       "      <td>Lenovo</td>\n",
       "    </tr>\n",
       "    <tr>\n",
       "      <th>2</th>\n",
       "      <td>ASUS VivoBook 15 (2022) Core i3 10th Gen - (8 ...</td>\n",
       "      <td>4.3</td>\n",
       "      <td>₹32,990</td>\n",
       "      <td>Intel Core i3 Processor (10th Gen)8 GB DDR4 RA...</td>\n",
       "      <td>Intel Core i3 Processor</td>\n",
       "      <td>8 GB DDR4 RAM</td>\n",
       "      <td>64 bit Windows 11 Operating System</td>\n",
       "      <td>512 GB SSD</td>\n",
       "      <td>ASUS</td>\n",
       "    </tr>\n",
       "    <tr>\n",
       "      <th>3</th>\n",
       "      <td>HP Pavilion Ryzen 5 Hexa Core AMD R5-5600H - (...</td>\n",
       "      <td>4.4</td>\n",
       "      <td>₹49,990</td>\n",
       "      <td>AMD Ryzen 5 Hexa Core Processor8 GB DDR4 RAM64...</td>\n",
       "      <td>AMD Ryzen 5 Hexa Core Processor</td>\n",
       "      <td>8 GB DDR4 RAM</td>\n",
       "      <td>64 bit Windows 10 Operating System</td>\n",
       "      <td>512 GB SSD</td>\n",
       "      <td>HP</td>\n",
       "    </tr>\n",
       "    <tr>\n",
       "      <th>4</th>\n",
       "      <td>ASUS TUF Gaming F15 Core i5 10th Gen - (8 GB/5...</td>\n",
       "      <td>4.4</td>\n",
       "      <td>₹49,990</td>\n",
       "      <td>Intel Core i5 Processor (10th Gen)8 GB DDR4 RA...</td>\n",
       "      <td>Intel Core i5 Processor</td>\n",
       "      <td>8 GB DDR4 RAM</td>\n",
       "      <td></td>\n",
       "      <td>512 GB SSD</td>\n",
       "      <td>ASUS</td>\n",
       "    </tr>\n",
       "  </tbody>\n",
       "</table>\n",
       "</div>"
      ],
      "text/plain": [
       "                                             Product  Rating      MRP  \\\n",
       "0  Lenovo IdeaPad 3 Core i3 11th Gen - (8 GB/256 ...     4.2  ₹36,990   \n",
       "1  Lenovo IdeaPad 3 Core i3 11th Gen - (8 GB/512 ...     4.2  ₹39,990   \n",
       "2  ASUS VivoBook 15 (2022) Core i3 10th Gen - (8 ...     4.3  ₹32,990   \n",
       "3  HP Pavilion Ryzen 5 Hexa Core AMD R5-5600H - (...     4.4  ₹49,990   \n",
       "4  ASUS TUF Gaming F15 Core i5 10th Gen - (8 GB/5...     4.4  ₹49,990   \n",
       "\n",
       "                                             Feature  \\\n",
       "0  Intel Core i3 Processor (11th Gen)8 GB DDR4 RA...   \n",
       "1  Intel Core i3 Processor (11th Gen)8 GB DDR4 RA...   \n",
       "2  Intel Core i3 Processor (10th Gen)8 GB DDR4 RA...   \n",
       "3  AMD Ryzen 5 Hexa Core Processor8 GB DDR4 RAM64...   \n",
       "4  Intel Core i5 Processor (10th Gen)8 GB DDR4 RA...   \n",
       "\n",
       "                         Processor            RAM  \\\n",
       "0          Intel Core i3 Processor  8 GB DDR4 RAM   \n",
       "1          Intel Core i3 Processor  8 GB DDR4 RAM   \n",
       "2          Intel Core i3 Processor  8 GB DDR4 RAM   \n",
       "3  AMD Ryzen 5 Hexa Core Processor  8 GB DDR4 RAM   \n",
       "4          Intel Core i5 Processor  8 GB DDR4 RAM   \n",
       "\n",
       "                                   OS     Storage   Brand  \n",
       "0  64 bit Windows 11 Operating System  256 GB SSD  Lenovo  \n",
       "1  64 bit Windows 11 Operating System  512 GB SSD  Lenovo  \n",
       "2  64 bit Windows 11 Operating System  512 GB SSD    ASUS  \n",
       "3  64 bit Windows 10 Operating System  512 GB SSD      HP  \n",
       "4                                      512 GB SSD    ASUS  "
      ]
     },
     "execution_count": 17,
     "metadata": {},
     "output_type": "execute_result"
    }
   ],
   "source": [
    "df.head()"
   ]
  },
  {
   "cell_type": "code",
   "execution_count": 18,
   "metadata": {},
   "outputs": [
    {
     "data": {
      "text/plain": [
       "Product        0\n",
       "Rating       139\n",
       "MRP            0\n",
       "Feature        0\n",
       "Processor      0\n",
       "RAM            0\n",
       "OS             0\n",
       "Storage        0\n",
       "Brand          0\n",
       "dtype: int64"
      ]
     },
     "execution_count": 18,
     "metadata": {},
     "output_type": "execute_result"
    }
   ],
   "source": [
    "df.isnull().sum()"
   ]
  },
  {
   "cell_type": "code",
   "execution_count": 21,
   "metadata": {},
   "outputs": [],
   "source": [
    "df[['RAM Size', 'RAM Type']] = df['RAM'].str.extract(r'(\\d+)\\s+GB\\s+(\\w+)\\s+RAM')"
   ]
  },
  {
   "cell_type": "code",
   "execution_count": 22,
   "metadata": {},
   "outputs": [],
   "source": [
    "storage_regex = r'(\\d+) GB'\n",
    "device_regex = r'(\\b\\w+\\b)$'\n",
    "\n",
    "# apply the regular expressions to the column and create new columns\n",
    "df['storage'] = df['Storage'].str.extract(storage_regex)\n",
    "df['device_type'] = df['Storage'].str.extract(device_regex)"
   ]
  },
  {
   "cell_type": "code",
   "execution_count": 23,
   "metadata": {},
   "outputs": [
    {
     "data": {
      "text/html": [
       "<div>\n",
       "<style scoped>\n",
       "    .dataframe tbody tr th:only-of-type {\n",
       "        vertical-align: middle;\n",
       "    }\n",
       "\n",
       "    .dataframe tbody tr th {\n",
       "        vertical-align: top;\n",
       "    }\n",
       "\n",
       "    .dataframe thead th {\n",
       "        text-align: right;\n",
       "    }\n",
       "</style>\n",
       "<table border=\"1\" class=\"dataframe\">\n",
       "  <thead>\n",
       "    <tr style=\"text-align: right;\">\n",
       "      <th></th>\n",
       "      <th>Product</th>\n",
       "      <th>Rating</th>\n",
       "      <th>MRP</th>\n",
       "      <th>Feature</th>\n",
       "      <th>Processor</th>\n",
       "      <th>RAM</th>\n",
       "      <th>OS</th>\n",
       "      <th>Storage</th>\n",
       "      <th>Brand</th>\n",
       "      <th>RAM Size</th>\n",
       "      <th>RAM Type</th>\n",
       "      <th>storage</th>\n",
       "      <th>device_type</th>\n",
       "    </tr>\n",
       "  </thead>\n",
       "  <tbody>\n",
       "    <tr>\n",
       "      <th>0</th>\n",
       "      <td>Lenovo IdeaPad 3 Core i3 11th Gen - (8 GB/256 ...</td>\n",
       "      <td>4.2</td>\n",
       "      <td>₹36,990</td>\n",
       "      <td>Intel Core i3 Processor (11th Gen)8 GB DDR4 RA...</td>\n",
       "      <td>Intel Core i3 Processor</td>\n",
       "      <td>8 GB DDR4 RAM</td>\n",
       "      <td>64 bit Windows 11 Operating System</td>\n",
       "      <td>256 GB SSD</td>\n",
       "      <td>Lenovo</td>\n",
       "      <td>8</td>\n",
       "      <td>DDR4</td>\n",
       "      <td>256</td>\n",
       "      <td>SSD</td>\n",
       "    </tr>\n",
       "    <tr>\n",
       "      <th>1</th>\n",
       "      <td>Lenovo IdeaPad 3 Core i3 11th Gen - (8 GB/512 ...</td>\n",
       "      <td>4.2</td>\n",
       "      <td>₹39,990</td>\n",
       "      <td>Intel Core i3 Processor (11th Gen)8 GB DDR4 RA...</td>\n",
       "      <td>Intel Core i3 Processor</td>\n",
       "      <td>8 GB DDR4 RAM</td>\n",
       "      <td>64 bit Windows 11 Operating System</td>\n",
       "      <td>512 GB SSD</td>\n",
       "      <td>Lenovo</td>\n",
       "      <td>8</td>\n",
       "      <td>DDR4</td>\n",
       "      <td>512</td>\n",
       "      <td>SSD</td>\n",
       "    </tr>\n",
       "    <tr>\n",
       "      <th>2</th>\n",
       "      <td>ASUS VivoBook 15 (2022) Core i3 10th Gen - (8 ...</td>\n",
       "      <td>4.3</td>\n",
       "      <td>₹32,990</td>\n",
       "      <td>Intel Core i3 Processor (10th Gen)8 GB DDR4 RA...</td>\n",
       "      <td>Intel Core i3 Processor</td>\n",
       "      <td>8 GB DDR4 RAM</td>\n",
       "      <td>64 bit Windows 11 Operating System</td>\n",
       "      <td>512 GB SSD</td>\n",
       "      <td>ASUS</td>\n",
       "      <td>8</td>\n",
       "      <td>DDR4</td>\n",
       "      <td>512</td>\n",
       "      <td>SSD</td>\n",
       "    </tr>\n",
       "    <tr>\n",
       "      <th>3</th>\n",
       "      <td>HP Pavilion Ryzen 5 Hexa Core AMD R5-5600H - (...</td>\n",
       "      <td>4.4</td>\n",
       "      <td>₹49,990</td>\n",
       "      <td>AMD Ryzen 5 Hexa Core Processor8 GB DDR4 RAM64...</td>\n",
       "      <td>AMD Ryzen 5 Hexa Core Processor</td>\n",
       "      <td>8 GB DDR4 RAM</td>\n",
       "      <td>64 bit Windows 10 Operating System</td>\n",
       "      <td>512 GB SSD</td>\n",
       "      <td>HP</td>\n",
       "      <td>8</td>\n",
       "      <td>DDR4</td>\n",
       "      <td>512</td>\n",
       "      <td>SSD</td>\n",
       "    </tr>\n",
       "    <tr>\n",
       "      <th>4</th>\n",
       "      <td>ASUS TUF Gaming F15 Core i5 10th Gen - (8 GB/5...</td>\n",
       "      <td>4.4</td>\n",
       "      <td>₹49,990</td>\n",
       "      <td>Intel Core i5 Processor (10th Gen)8 GB DDR4 RA...</td>\n",
       "      <td>Intel Core i5 Processor</td>\n",
       "      <td>8 GB DDR4 RAM</td>\n",
       "      <td></td>\n",
       "      <td>512 GB SSD</td>\n",
       "      <td>ASUS</td>\n",
       "      <td>8</td>\n",
       "      <td>DDR4</td>\n",
       "      <td>512</td>\n",
       "      <td>SSD</td>\n",
       "    </tr>\n",
       "  </tbody>\n",
       "</table>\n",
       "</div>"
      ],
      "text/plain": [
       "                                             Product  Rating      MRP  \\\n",
       "0  Lenovo IdeaPad 3 Core i3 11th Gen - (8 GB/256 ...     4.2  ₹36,990   \n",
       "1  Lenovo IdeaPad 3 Core i3 11th Gen - (8 GB/512 ...     4.2  ₹39,990   \n",
       "2  ASUS VivoBook 15 (2022) Core i3 10th Gen - (8 ...     4.3  ₹32,990   \n",
       "3  HP Pavilion Ryzen 5 Hexa Core AMD R5-5600H - (...     4.4  ₹49,990   \n",
       "4  ASUS TUF Gaming F15 Core i5 10th Gen - (8 GB/5...     4.4  ₹49,990   \n",
       "\n",
       "                                             Feature  \\\n",
       "0  Intel Core i3 Processor (11th Gen)8 GB DDR4 RA...   \n",
       "1  Intel Core i3 Processor (11th Gen)8 GB DDR4 RA...   \n",
       "2  Intel Core i3 Processor (10th Gen)8 GB DDR4 RA...   \n",
       "3  AMD Ryzen 5 Hexa Core Processor8 GB DDR4 RAM64...   \n",
       "4  Intel Core i5 Processor (10th Gen)8 GB DDR4 RA...   \n",
       "\n",
       "                         Processor            RAM  \\\n",
       "0          Intel Core i3 Processor  8 GB DDR4 RAM   \n",
       "1          Intel Core i3 Processor  8 GB DDR4 RAM   \n",
       "2          Intel Core i3 Processor  8 GB DDR4 RAM   \n",
       "3  AMD Ryzen 5 Hexa Core Processor  8 GB DDR4 RAM   \n",
       "4          Intel Core i5 Processor  8 GB DDR4 RAM   \n",
       "\n",
       "                                   OS     Storage   Brand RAM Size RAM Type  \\\n",
       "0  64 bit Windows 11 Operating System  256 GB SSD  Lenovo        8     DDR4   \n",
       "1  64 bit Windows 11 Operating System  512 GB SSD  Lenovo        8     DDR4   \n",
       "2  64 bit Windows 11 Operating System  512 GB SSD    ASUS        8     DDR4   \n",
       "3  64 bit Windows 10 Operating System  512 GB SSD      HP        8     DDR4   \n",
       "4                                      512 GB SSD    ASUS        8     DDR4   \n",
       "\n",
       "  storage device_type  \n",
       "0     256         SSD  \n",
       "1     512         SSD  \n",
       "2     512         SSD  \n",
       "3     512         SSD  \n",
       "4     512         SSD  "
      ]
     },
     "execution_count": 23,
     "metadata": {},
     "output_type": "execute_result"
    }
   ],
   "source": [
    "df.head()"
   ]
  },
  {
   "cell_type": "code",
   "execution_count": 24,
   "metadata": {},
   "outputs": [],
   "source": [
    "\n",
    "pattern = r'\\b(\\d+)\\s*bit\\s*(\\w+\\s+\\d+)\\b'\n",
    "\n",
    "# use the extract method to split the column into two\n",
    "df[['bit architecture', 'os']] = df['OS'].str.extract(pattern)\n"
   ]
  },
  {
   "cell_type": "code",
   "execution_count": 25,
   "metadata": {},
   "outputs": [
    {
     "data": {
      "text/html": [
       "<div>\n",
       "<style scoped>\n",
       "    .dataframe tbody tr th:only-of-type {\n",
       "        vertical-align: middle;\n",
       "    }\n",
       "\n",
       "    .dataframe tbody tr th {\n",
       "        vertical-align: top;\n",
       "    }\n",
       "\n",
       "    .dataframe thead th {\n",
       "        text-align: right;\n",
       "    }\n",
       "</style>\n",
       "<table border=\"1\" class=\"dataframe\">\n",
       "  <thead>\n",
       "    <tr style=\"text-align: right;\">\n",
       "      <th></th>\n",
       "      <th>Product</th>\n",
       "      <th>Rating</th>\n",
       "      <th>MRP</th>\n",
       "      <th>Feature</th>\n",
       "      <th>Processor</th>\n",
       "      <th>RAM</th>\n",
       "      <th>OS</th>\n",
       "      <th>Storage</th>\n",
       "      <th>Brand</th>\n",
       "      <th>RAM Size</th>\n",
       "      <th>RAM Type</th>\n",
       "      <th>storage</th>\n",
       "      <th>device_type</th>\n",
       "      <th>bit architecture</th>\n",
       "      <th>os</th>\n",
       "    </tr>\n",
       "  </thead>\n",
       "  <tbody>\n",
       "    <tr>\n",
       "      <th>715</th>\n",
       "      <td>ASUS Chromebook Flip Touch Celeron Dual Core -...</td>\n",
       "      <td>4.0</td>\n",
       "      <td>₹23,490</td>\n",
       "      <td>Intel Celeron Dual Core Processor4 GB LPDDR4 R...</td>\n",
       "      <td>Intel Celeron Dual Core Processor</td>\n",
       "      <td>4 GB LPDDR4 RAM</td>\n",
       "      <td></td>\n",
       "      <td></td>\n",
       "      <td>ASUS</td>\n",
       "      <td>4</td>\n",
       "      <td>LPDDR4</td>\n",
       "      <td>NaN</td>\n",
       "      <td>NaN</td>\n",
       "      <td>NaN</td>\n",
       "      <td>NaN</td>\n",
       "    </tr>\n",
       "    <tr>\n",
       "      <th>716</th>\n",
       "      <td>Lenovo IdeaPad Gaming 3 Ryzen 7 Octa Core AMD ...</td>\n",
       "      <td>4.5</td>\n",
       "      <td>₹73,490</td>\n",
       "      <td>AMD Ryzen 7 Octa Core Processor8 GB DDR4 RAM64...</td>\n",
       "      <td>AMD Ryzen 7 Octa Core Processor</td>\n",
       "      <td>8 GB DDR4 RAM</td>\n",
       "      <td>64 bit Windows 11 Operating System</td>\n",
       "      <td>512 GB SSD</td>\n",
       "      <td>Lenovo</td>\n",
       "      <td>8</td>\n",
       "      <td>DDR4</td>\n",
       "      <td>512</td>\n",
       "      <td>SSD</td>\n",
       "      <td>64</td>\n",
       "      <td>Windows 11</td>\n",
       "    </tr>\n",
       "    <tr>\n",
       "      <th>717</th>\n",
       "      <td>ASUS ROG Zephyrus G15 Ryzen 9 Octa Core 6900HS...</td>\n",
       "      <td>NaN</td>\n",
       "      <td>₹1,94,990</td>\n",
       "      <td>AMD Ryzen 9 Octa Core Processor16 GB DDR5 RAM6...</td>\n",
       "      <td>AMD Ryzen 9 Octa Core Processor</td>\n",
       "      <td>16 GB DDR5 RAM</td>\n",
       "      <td>64 bit Windows 11 Operating System</td>\n",
       "      <td>1 TB SSD</td>\n",
       "      <td>ASUS</td>\n",
       "      <td>16</td>\n",
       "      <td>DDR5</td>\n",
       "      <td>NaN</td>\n",
       "      <td>SSD</td>\n",
       "      <td>64</td>\n",
       "      <td>Windows 11</td>\n",
       "    </tr>\n",
       "    <tr>\n",
       "      <th>718</th>\n",
       "      <td>ASUS Zenbook Flip 14 OLED (2022) Touch Panel C...</td>\n",
       "      <td>3.0</td>\n",
       "      <td>₹1,25,990</td>\n",
       "      <td>Intel Core i7 Processor (12th Gen)16 GB LPDDR5...</td>\n",
       "      <td>Intel Core i7 Processor</td>\n",
       "      <td>16 GB LPDDR5 RAM</td>\n",
       "      <td>64 bit Windows 11 Operating System</td>\n",
       "      <td>512 GB SSD</td>\n",
       "      <td>ASUS</td>\n",
       "      <td>16</td>\n",
       "      <td>LPDDR5</td>\n",
       "      <td>512</td>\n",
       "      <td>SSD</td>\n",
       "      <td>64</td>\n",
       "      <td>Windows 11</td>\n",
       "    </tr>\n",
       "    <tr>\n",
       "      <th>719</th>\n",
       "      <td>Lenovo Ideapad Slim 3i Core i5 10th Gen - (8 G...</td>\n",
       "      <td>4.2</td>\n",
       "      <td>₹50,990</td>\n",
       "      <td>Intel Core i5 Processor (10th Gen)8 GB DDR4 RA...</td>\n",
       "      <td>Intel Core i5 Processor</td>\n",
       "      <td>8 GB DDR4 RAM</td>\n",
       "      <td>64 bit Windows 10 Operating System</td>\n",
       "      <td>1 TB HDD256 GB SSD</td>\n",
       "      <td>Lenovo</td>\n",
       "      <td>8</td>\n",
       "      <td>DDR4</td>\n",
       "      <td>256</td>\n",
       "      <td>SSD</td>\n",
       "      <td>64</td>\n",
       "      <td>Windows 10</td>\n",
       "    </tr>\n",
       "  </tbody>\n",
       "</table>\n",
       "</div>"
      ],
      "text/plain": [
       "                                               Product  Rating        MRP  \\\n",
       "715  ASUS Chromebook Flip Touch Celeron Dual Core -...     4.0    ₹23,490   \n",
       "716  Lenovo IdeaPad Gaming 3 Ryzen 7 Octa Core AMD ...     4.5    ₹73,490   \n",
       "717  ASUS ROG Zephyrus G15 Ryzen 9 Octa Core 6900HS...     NaN  ₹1,94,990   \n",
       "718  ASUS Zenbook Flip 14 OLED (2022) Touch Panel C...     3.0  ₹1,25,990   \n",
       "719  Lenovo Ideapad Slim 3i Core i5 10th Gen - (8 G...     4.2    ₹50,990   \n",
       "\n",
       "                                               Feature  \\\n",
       "715  Intel Celeron Dual Core Processor4 GB LPDDR4 R...   \n",
       "716  AMD Ryzen 7 Octa Core Processor8 GB DDR4 RAM64...   \n",
       "717  AMD Ryzen 9 Octa Core Processor16 GB DDR5 RAM6...   \n",
       "718  Intel Core i7 Processor (12th Gen)16 GB LPDDR5...   \n",
       "719  Intel Core i5 Processor (10th Gen)8 GB DDR4 RA...   \n",
       "\n",
       "                             Processor               RAM  \\\n",
       "715  Intel Celeron Dual Core Processor   4 GB LPDDR4 RAM   \n",
       "716    AMD Ryzen 7 Octa Core Processor     8 GB DDR4 RAM   \n",
       "717    AMD Ryzen 9 Octa Core Processor    16 GB DDR5 RAM   \n",
       "718            Intel Core i7 Processor  16 GB LPDDR5 RAM   \n",
       "719            Intel Core i5 Processor     8 GB DDR4 RAM   \n",
       "\n",
       "                                     OS             Storage   Brand RAM Size  \\\n",
       "715                                                            ASUS        4   \n",
       "716  64 bit Windows 11 Operating System          512 GB SSD  Lenovo        8   \n",
       "717  64 bit Windows 11 Operating System            1 TB SSD    ASUS       16   \n",
       "718  64 bit Windows 11 Operating System          512 GB SSD    ASUS       16   \n",
       "719  64 bit Windows 10 Operating System  1 TB HDD256 GB SSD  Lenovo        8   \n",
       "\n",
       "    RAM Type storage device_type bit architecture          os  \n",
       "715   LPDDR4     NaN         NaN              NaN         NaN  \n",
       "716     DDR4     512         SSD               64  Windows 11  \n",
       "717     DDR5     NaN         SSD               64  Windows 11  \n",
       "718   LPDDR5     512         SSD               64  Windows 11  \n",
       "719     DDR4     256         SSD               64  Windows 10  "
      ]
     },
     "execution_count": 25,
     "metadata": {},
     "output_type": "execute_result"
    }
   ],
   "source": [
    "df.tail()"
   ]
  },
  {
   "cell_type": "code",
   "execution_count": 26,
   "metadata": {},
   "outputs": [],
   "source": [
    "df[['processor', 'Model']] = df['Processor'].str.extract(r'^(Intel Core i3)\\s(.*)$')\n",
    "\n"
   ]
  },
  {
   "cell_type": "code",
   "execution_count": null,
   "metadata": {},
   "outputs": [],
   "source": []
  },
  {
   "cell_type": "code",
   "execution_count": 27,
   "metadata": {},
   "outputs": [
    {
     "data": {
      "text/html": [
       "<div>\n",
       "<style scoped>\n",
       "    .dataframe tbody tr th:only-of-type {\n",
       "        vertical-align: middle;\n",
       "    }\n",
       "\n",
       "    .dataframe tbody tr th {\n",
       "        vertical-align: top;\n",
       "    }\n",
       "\n",
       "    .dataframe thead th {\n",
       "        text-align: right;\n",
       "    }\n",
       "</style>\n",
       "<table border=\"1\" class=\"dataframe\">\n",
       "  <thead>\n",
       "    <tr style=\"text-align: right;\">\n",
       "      <th></th>\n",
       "      <th>Product</th>\n",
       "      <th>Rating</th>\n",
       "      <th>MRP</th>\n",
       "      <th>Feature</th>\n",
       "      <th>Processor</th>\n",
       "      <th>RAM</th>\n",
       "      <th>OS</th>\n",
       "      <th>Storage</th>\n",
       "      <th>Brand</th>\n",
       "      <th>RAM Size</th>\n",
       "      <th>RAM Type</th>\n",
       "      <th>storage</th>\n",
       "      <th>device_type</th>\n",
       "      <th>bit architecture</th>\n",
       "      <th>os</th>\n",
       "      <th>processor</th>\n",
       "      <th>Model</th>\n",
       "    </tr>\n",
       "  </thead>\n",
       "  <tbody>\n",
       "    <tr>\n",
       "      <th>0</th>\n",
       "      <td>Lenovo IdeaPad 3 Core i3 11th Gen - (8 GB/256 ...</td>\n",
       "      <td>4.2</td>\n",
       "      <td>₹36,990</td>\n",
       "      <td>Intel Core i3 Processor (11th Gen)8 GB DDR4 RA...</td>\n",
       "      <td>Intel Core i3 Processor</td>\n",
       "      <td>8 GB DDR4 RAM</td>\n",
       "      <td>64 bit Windows 11 Operating System</td>\n",
       "      <td>256 GB SSD</td>\n",
       "      <td>Lenovo</td>\n",
       "      <td>8</td>\n",
       "      <td>DDR4</td>\n",
       "      <td>256</td>\n",
       "      <td>SSD</td>\n",
       "      <td>64</td>\n",
       "      <td>Windows 11</td>\n",
       "      <td>Intel Core i3</td>\n",
       "      <td>Processor</td>\n",
       "    </tr>\n",
       "    <tr>\n",
       "      <th>1</th>\n",
       "      <td>Lenovo IdeaPad 3 Core i3 11th Gen - (8 GB/512 ...</td>\n",
       "      <td>4.2</td>\n",
       "      <td>₹39,990</td>\n",
       "      <td>Intel Core i3 Processor (11th Gen)8 GB DDR4 RA...</td>\n",
       "      <td>Intel Core i3 Processor</td>\n",
       "      <td>8 GB DDR4 RAM</td>\n",
       "      <td>64 bit Windows 11 Operating System</td>\n",
       "      <td>512 GB SSD</td>\n",
       "      <td>Lenovo</td>\n",
       "      <td>8</td>\n",
       "      <td>DDR4</td>\n",
       "      <td>512</td>\n",
       "      <td>SSD</td>\n",
       "      <td>64</td>\n",
       "      <td>Windows 11</td>\n",
       "      <td>Intel Core i3</td>\n",
       "      <td>Processor</td>\n",
       "    </tr>\n",
       "    <tr>\n",
       "      <th>2</th>\n",
       "      <td>ASUS VivoBook 15 (2022) Core i3 10th Gen - (8 ...</td>\n",
       "      <td>4.3</td>\n",
       "      <td>₹32,990</td>\n",
       "      <td>Intel Core i3 Processor (10th Gen)8 GB DDR4 RA...</td>\n",
       "      <td>Intel Core i3 Processor</td>\n",
       "      <td>8 GB DDR4 RAM</td>\n",
       "      <td>64 bit Windows 11 Operating System</td>\n",
       "      <td>512 GB SSD</td>\n",
       "      <td>ASUS</td>\n",
       "      <td>8</td>\n",
       "      <td>DDR4</td>\n",
       "      <td>512</td>\n",
       "      <td>SSD</td>\n",
       "      <td>64</td>\n",
       "      <td>Windows 11</td>\n",
       "      <td>Intel Core i3</td>\n",
       "      <td>Processor</td>\n",
       "    </tr>\n",
       "    <tr>\n",
       "      <th>3</th>\n",
       "      <td>HP Pavilion Ryzen 5 Hexa Core AMD R5-5600H - (...</td>\n",
       "      <td>4.4</td>\n",
       "      <td>₹49,990</td>\n",
       "      <td>AMD Ryzen 5 Hexa Core Processor8 GB DDR4 RAM64...</td>\n",
       "      <td>AMD Ryzen 5 Hexa Core Processor</td>\n",
       "      <td>8 GB DDR4 RAM</td>\n",
       "      <td>64 bit Windows 10 Operating System</td>\n",
       "      <td>512 GB SSD</td>\n",
       "      <td>HP</td>\n",
       "      <td>8</td>\n",
       "      <td>DDR4</td>\n",
       "      <td>512</td>\n",
       "      <td>SSD</td>\n",
       "      <td>64</td>\n",
       "      <td>Windows 10</td>\n",
       "      <td>NaN</td>\n",
       "      <td>NaN</td>\n",
       "    </tr>\n",
       "    <tr>\n",
       "      <th>4</th>\n",
       "      <td>ASUS TUF Gaming F15 Core i5 10th Gen - (8 GB/5...</td>\n",
       "      <td>4.4</td>\n",
       "      <td>₹49,990</td>\n",
       "      <td>Intel Core i5 Processor (10th Gen)8 GB DDR4 RA...</td>\n",
       "      <td>Intel Core i5 Processor</td>\n",
       "      <td>8 GB DDR4 RAM</td>\n",
       "      <td></td>\n",
       "      <td>512 GB SSD</td>\n",
       "      <td>ASUS</td>\n",
       "      <td>8</td>\n",
       "      <td>DDR4</td>\n",
       "      <td>512</td>\n",
       "      <td>SSD</td>\n",
       "      <td>NaN</td>\n",
       "      <td>NaN</td>\n",
       "      <td>NaN</td>\n",
       "      <td>NaN</td>\n",
       "    </tr>\n",
       "  </tbody>\n",
       "</table>\n",
       "</div>"
      ],
      "text/plain": [
       "                                             Product  Rating      MRP  \\\n",
       "0  Lenovo IdeaPad 3 Core i3 11th Gen - (8 GB/256 ...     4.2  ₹36,990   \n",
       "1  Lenovo IdeaPad 3 Core i3 11th Gen - (8 GB/512 ...     4.2  ₹39,990   \n",
       "2  ASUS VivoBook 15 (2022) Core i3 10th Gen - (8 ...     4.3  ₹32,990   \n",
       "3  HP Pavilion Ryzen 5 Hexa Core AMD R5-5600H - (...     4.4  ₹49,990   \n",
       "4  ASUS TUF Gaming F15 Core i5 10th Gen - (8 GB/5...     4.4  ₹49,990   \n",
       "\n",
       "                                             Feature  \\\n",
       "0  Intel Core i3 Processor (11th Gen)8 GB DDR4 RA...   \n",
       "1  Intel Core i3 Processor (11th Gen)8 GB DDR4 RA...   \n",
       "2  Intel Core i3 Processor (10th Gen)8 GB DDR4 RA...   \n",
       "3  AMD Ryzen 5 Hexa Core Processor8 GB DDR4 RAM64...   \n",
       "4  Intel Core i5 Processor (10th Gen)8 GB DDR4 RA...   \n",
       "\n",
       "                         Processor            RAM  \\\n",
       "0          Intel Core i3 Processor  8 GB DDR4 RAM   \n",
       "1          Intel Core i3 Processor  8 GB DDR4 RAM   \n",
       "2          Intel Core i3 Processor  8 GB DDR4 RAM   \n",
       "3  AMD Ryzen 5 Hexa Core Processor  8 GB DDR4 RAM   \n",
       "4          Intel Core i5 Processor  8 GB DDR4 RAM   \n",
       "\n",
       "                                   OS     Storage   Brand RAM Size RAM Type  \\\n",
       "0  64 bit Windows 11 Operating System  256 GB SSD  Lenovo        8     DDR4   \n",
       "1  64 bit Windows 11 Operating System  512 GB SSD  Lenovo        8     DDR4   \n",
       "2  64 bit Windows 11 Operating System  512 GB SSD    ASUS        8     DDR4   \n",
       "3  64 bit Windows 10 Operating System  512 GB SSD      HP        8     DDR4   \n",
       "4                                      512 GB SSD    ASUS        8     DDR4   \n",
       "\n",
       "  storage device_type bit architecture          os      processor      Model  \n",
       "0     256         SSD               64  Windows 11  Intel Core i3  Processor  \n",
       "1     512         SSD               64  Windows 11  Intel Core i3  Processor  \n",
       "2     512         SSD               64  Windows 11  Intel Core i3  Processor  \n",
       "3     512         SSD               64  Windows 10            NaN        NaN  \n",
       "4     512         SSD              NaN         NaN            NaN        NaN  "
      ]
     },
     "execution_count": 27,
     "metadata": {},
     "output_type": "execute_result"
    }
   ],
   "source": [
    "df.head()"
   ]
  },
  {
   "cell_type": "markdown",
   "metadata": {},
   "source": []
  },
  {
   "cell_type": "code",
   "execution_count": 28,
   "metadata": {},
   "outputs": [],
   "source": [
    "df=df.drop(columns=['Processor','OS','Storage','Model','Feature','Product','RAM'])"
   ]
  },
  {
   "cell_type": "code",
   "execution_count": 29,
   "metadata": {},
   "outputs": [
    {
     "data": {
      "text/html": [
       "<div>\n",
       "<style scoped>\n",
       "    .dataframe tbody tr th:only-of-type {\n",
       "        vertical-align: middle;\n",
       "    }\n",
       "\n",
       "    .dataframe tbody tr th {\n",
       "        vertical-align: top;\n",
       "    }\n",
       "\n",
       "    .dataframe thead th {\n",
       "        text-align: right;\n",
       "    }\n",
       "</style>\n",
       "<table border=\"1\" class=\"dataframe\">\n",
       "  <thead>\n",
       "    <tr style=\"text-align: right;\">\n",
       "      <th></th>\n",
       "      <th>Rating</th>\n",
       "      <th>MRP</th>\n",
       "      <th>Brand</th>\n",
       "      <th>RAM Size</th>\n",
       "      <th>RAM Type</th>\n",
       "      <th>storage</th>\n",
       "      <th>device_type</th>\n",
       "      <th>bit architecture</th>\n",
       "      <th>os</th>\n",
       "      <th>processor</th>\n",
       "    </tr>\n",
       "  </thead>\n",
       "  <tbody>\n",
       "    <tr>\n",
       "      <th>0</th>\n",
       "      <td>4.2</td>\n",
       "      <td>₹36,990</td>\n",
       "      <td>Lenovo</td>\n",
       "      <td>8</td>\n",
       "      <td>DDR4</td>\n",
       "      <td>256</td>\n",
       "      <td>SSD</td>\n",
       "      <td>64</td>\n",
       "      <td>Windows 11</td>\n",
       "      <td>Intel Core i3</td>\n",
       "    </tr>\n",
       "    <tr>\n",
       "      <th>1</th>\n",
       "      <td>4.2</td>\n",
       "      <td>₹39,990</td>\n",
       "      <td>Lenovo</td>\n",
       "      <td>8</td>\n",
       "      <td>DDR4</td>\n",
       "      <td>512</td>\n",
       "      <td>SSD</td>\n",
       "      <td>64</td>\n",
       "      <td>Windows 11</td>\n",
       "      <td>Intel Core i3</td>\n",
       "    </tr>\n",
       "    <tr>\n",
       "      <th>2</th>\n",
       "      <td>4.3</td>\n",
       "      <td>₹32,990</td>\n",
       "      <td>ASUS</td>\n",
       "      <td>8</td>\n",
       "      <td>DDR4</td>\n",
       "      <td>512</td>\n",
       "      <td>SSD</td>\n",
       "      <td>64</td>\n",
       "      <td>Windows 11</td>\n",
       "      <td>Intel Core i3</td>\n",
       "    </tr>\n",
       "    <tr>\n",
       "      <th>3</th>\n",
       "      <td>4.4</td>\n",
       "      <td>₹49,990</td>\n",
       "      <td>HP</td>\n",
       "      <td>8</td>\n",
       "      <td>DDR4</td>\n",
       "      <td>512</td>\n",
       "      <td>SSD</td>\n",
       "      <td>64</td>\n",
       "      <td>Windows 10</td>\n",
       "      <td>NaN</td>\n",
       "    </tr>\n",
       "    <tr>\n",
       "      <th>4</th>\n",
       "      <td>4.4</td>\n",
       "      <td>₹49,990</td>\n",
       "      <td>ASUS</td>\n",
       "      <td>8</td>\n",
       "      <td>DDR4</td>\n",
       "      <td>512</td>\n",
       "      <td>SSD</td>\n",
       "      <td>NaN</td>\n",
       "      <td>NaN</td>\n",
       "      <td>NaN</td>\n",
       "    </tr>\n",
       "  </tbody>\n",
       "</table>\n",
       "</div>"
      ],
      "text/plain": [
       "   Rating      MRP   Brand RAM Size RAM Type storage device_type  \\\n",
       "0     4.2  ₹36,990  Lenovo        8     DDR4     256         SSD   \n",
       "1     4.2  ₹39,990  Lenovo        8     DDR4     512         SSD   \n",
       "2     4.3  ₹32,990    ASUS        8     DDR4     512         SSD   \n",
       "3     4.4  ₹49,990      HP        8     DDR4     512         SSD   \n",
       "4     4.4  ₹49,990    ASUS        8     DDR4     512         SSD   \n",
       "\n",
       "  bit architecture          os      processor  \n",
       "0               64  Windows 11  Intel Core i3  \n",
       "1               64  Windows 11  Intel Core i3  \n",
       "2               64  Windows 11  Intel Core i3  \n",
       "3               64  Windows 10            NaN  \n",
       "4              NaN         NaN            NaN  "
      ]
     },
     "execution_count": 29,
     "metadata": {},
     "output_type": "execute_result"
    }
   ],
   "source": [
    "df.head()"
   ]
  },
  {
   "cell_type": "code",
   "execution_count": 33,
   "metadata": {},
   "outputs": [],
   "source": [
    "#MRP univeriant\n",
    "\n",
    "df['MRP'] = df['MRP'].str.replace('₹', '')\n",
    "df['MRP'] = df['MRP'].str.replace(',', '')"
   ]
  },
  {
   "cell_type": "code",
   "execution_count": 34,
   "metadata": {},
   "outputs": [
    {
     "data": {
      "text/plain": [
       "0       36990\n",
       "1       39990\n",
       "2       32990\n",
       "3       49990\n",
       "4       49990\n",
       "        ...  \n",
       "715     23490\n",
       "716     73490\n",
       "717    194990\n",
       "718    125990\n",
       "719     50990\n",
       "Name: MRP, Length: 720, dtype: object"
      ]
     },
     "execution_count": 34,
     "metadata": {},
     "output_type": "execute_result"
    }
   ],
   "source": [
    "df['MRP']"
   ]
  },
  {
   "cell_type": "code",
   "execution_count": 35,
   "metadata": {},
   "outputs": [],
   "source": [
    "df['MRP']=df['MRP'].astype('float')"
   ]
  },
  {
   "cell_type": "code",
   "execution_count": 36,
   "metadata": {},
   "outputs": [
    {
     "data": {
      "text/plain": [
       "81605.8375"
      ]
     },
     "execution_count": 36,
     "metadata": {},
     "output_type": "execute_result"
    }
   ],
   "source": [
    "df['MRP'].mean()"
   ]
  },
  {
   "cell_type": "code",
   "execution_count": 37,
   "metadata": {},
   "outputs": [
    {
     "data": {
      "text/plain": [
       "59990.0"
      ]
     },
     "execution_count": 37,
     "metadata": {},
     "output_type": "execute_result"
    }
   ],
   "source": [
    "df['MRP'].median()"
   ]
  },
  {
   "cell_type": "code",
   "execution_count": 38,
   "metadata": {},
   "outputs": [
    {
     "data": {
      "text/plain": [
       "61552.95510244988"
      ]
     },
     "execution_count": 38,
     "metadata": {},
     "output_type": "execute_result"
    }
   ],
   "source": [
    "df['MRP'].std()"
   ]
  },
  {
   "cell_type": "code",
   "execution_count": 39,
   "metadata": {},
   "outputs": [
    {
     "data": {
      "text/plain": [
       "<Axes: >"
      ]
     },
     "execution_count": 39,
     "metadata": {},
     "output_type": "execute_result"
    },
    {
     "data": {
      "image/png": "[encoded data removed]",
      "text/plain": [
       "<Figure size 640x480 with 1 Axes>"
      ]
     },
     "metadata": {},
     "output_type": "display_data"
    }
   ],
   "source": [
    "df['MRP'].plot(kind='box')"
   ]
  },
  {
   "cell_type": "code",
   "execution_count": 40,
   "metadata": {},
   "outputs": [
    {
     "data": {
      "text/plain": [
       "<Axes: >"
      ]
     },
     "execution_count": 40,
     "metadata": {},
     "output_type": "execute_result"
    },
    {
     "data": {
      "image/png": "[encoded data removed]",
      "text/plain": [
       "<Figure size 640x480 with 1 Axes>"
      ]
     },
     "metadata": {},
     "output_type": "display_data"
    }
   ],
   "source": [
    "q1 = df['MRP'].quantile(0.25)\n",
    "q3 = df['MRP'].quantile(0.65)\n",
    "\n",
    "IQR = q3 - q1\n",
    "\n",
    "income_lower_bound = q1 - 1.5 * IQR\n",
    "income_upper_bound = q3 + 1.5 * IQR\n",
    "\n",
    "clean_df1= df[(df['MRP'] >= income_lower_bound) & (df['MRP'] <= income_upper_bound)]\n",
    "\n",
    "clean_df1['MRP'].plot(kind='box' )"
   ]
  },
  {
   "cell_type": "code",
   "execution_count": 41,
   "metadata": {},
   "outputs": [
    {
     "data": {
      "text/plain": [
       "56262.206132879044"
      ]
     },
     "execution_count": 41,
     "metadata": {},
     "output_type": "execute_result"
    }
   ],
   "source": [
    "clean_df1['MRP'].mean()"
   ]
  },
  {
   "cell_type": "code",
   "execution_count": 42,
   "metadata": {},
   "outputs": [
    {
     "data": {
      "text/plain": [
       "24431.58508274461"
      ]
     },
     "execution_count": 42,
     "metadata": {},
     "output_type": "execute_result"
    }
   ],
   "source": [
    "clean_df1['MRP'].std()"
   ]
  },
  {
   "cell_type": "code",
   "execution_count": 43,
   "metadata": {},
   "outputs": [
    {
     "data": {
      "text/plain": [
       "ASUS         251\n",
       "Lenovo       196\n",
       "HP            61\n",
       "DELL          61\n",
       "acer          35\n",
       "RedmiBook     31\n",
       "MSI           30\n",
       "Infinix       20\n",
       "APPLE         19\n",
       "realme         6\n",
       "ALIENWARE      3\n",
       "SAMSUNG        2\n",
       "Ultimus        2\n",
       "Vaio           1\n",
       "GIGABYTE       1\n",
       "Nokia          1\n",
       "Name: Brand, dtype: int64"
      ]
     },
     "execution_count": 43,
     "metadata": {},
     "output_type": "execute_result"
    }
   ],
   "source": [
    "df['Brand'].value_counts()"
   ]
  },
  {
   "cell_type": "code",
   "execution_count": 44,
   "metadata": {},
   "outputs": [
    {
     "data": {
      "text/html": [
       "<div>\n",
       "<style scoped>\n",
       "    .dataframe tbody tr th:only-of-type {\n",
       "        vertical-align: middle;\n",
       "    }\n",
       "\n",
       "    .dataframe tbody tr th {\n",
       "        vertical-align: top;\n",
       "    }\n",
       "\n",
       "    .dataframe thead th {\n",
       "        text-align: right;\n",
       "    }\n",
       "</style>\n",
       "<table border=\"1\" class=\"dataframe\">\n",
       "  <thead>\n",
       "    <tr style=\"text-align: right;\">\n",
       "      <th></th>\n",
       "      <th>Rating</th>\n",
       "      <th>MRP</th>\n",
       "      <th>Brand</th>\n",
       "      <th>RAM Size</th>\n",
       "      <th>RAM Type</th>\n",
       "      <th>storage</th>\n",
       "      <th>device_type</th>\n",
       "      <th>bit architecture</th>\n",
       "      <th>os</th>\n",
       "      <th>processor</th>\n",
       "    </tr>\n",
       "  </thead>\n",
       "  <tbody>\n",
       "    <tr>\n",
       "      <th>0</th>\n",
       "      <td>4.2</td>\n",
       "      <td>36990.0</td>\n",
       "      <td>Lenovo</td>\n",
       "      <td>8</td>\n",
       "      <td>DDR4</td>\n",
       "      <td>256</td>\n",
       "      <td>SSD</td>\n",
       "      <td>64</td>\n",
       "      <td>Windows 11</td>\n",
       "      <td>Intel Core i3</td>\n",
       "    </tr>\n",
       "    <tr>\n",
       "      <th>1</th>\n",
       "      <td>4.2</td>\n",
       "      <td>39990.0</td>\n",
       "      <td>Lenovo</td>\n",
       "      <td>8</td>\n",
       "      <td>DDR4</td>\n",
       "      <td>512</td>\n",
       "      <td>SSD</td>\n",
       "      <td>64</td>\n",
       "      <td>Windows 11</td>\n",
       "      <td>Intel Core i3</td>\n",
       "    </tr>\n",
       "    <tr>\n",
       "      <th>2</th>\n",
       "      <td>4.3</td>\n",
       "      <td>32990.0</td>\n",
       "      <td>ASUS</td>\n",
       "      <td>8</td>\n",
       "      <td>DDR4</td>\n",
       "      <td>512</td>\n",
       "      <td>SSD</td>\n",
       "      <td>64</td>\n",
       "      <td>Windows 11</td>\n",
       "      <td>Intel Core i3</td>\n",
       "    </tr>\n",
       "    <tr>\n",
       "      <th>3</th>\n",
       "      <td>4.4</td>\n",
       "      <td>49990.0</td>\n",
       "      <td>HP</td>\n",
       "      <td>8</td>\n",
       "      <td>DDR4</td>\n",
       "      <td>512</td>\n",
       "      <td>SSD</td>\n",
       "      <td>64</td>\n",
       "      <td>Windows 10</td>\n",
       "      <td>NaN</td>\n",
       "    </tr>\n",
       "    <tr>\n",
       "      <th>4</th>\n",
       "      <td>4.4</td>\n",
       "      <td>49990.0</td>\n",
       "      <td>ASUS</td>\n",
       "      <td>8</td>\n",
       "      <td>DDR4</td>\n",
       "      <td>512</td>\n",
       "      <td>SSD</td>\n",
       "      <td>NaN</td>\n",
       "      <td>NaN</td>\n",
       "      <td>NaN</td>\n",
       "    </tr>\n",
       "  </tbody>\n",
       "</table>\n",
       "</div>"
      ],
      "text/plain": [
       "   Rating      MRP   Brand RAM Size RAM Type storage device_type  \\\n",
       "0     4.2  36990.0  Lenovo        8     DDR4     256         SSD   \n",
       "1     4.2  39990.0  Lenovo        8     DDR4     512         SSD   \n",
       "2     4.3  32990.0    ASUS        8     DDR4     512         SSD   \n",
       "3     4.4  49990.0      HP        8     DDR4     512         SSD   \n",
       "4     4.4  49990.0    ASUS        8     DDR4     512         SSD   \n",
       "\n",
       "  bit architecture          os      processor  \n",
       "0               64  Windows 11  Intel Core i3  \n",
       "1               64  Windows 11  Intel Core i3  \n",
       "2               64  Windows 11  Intel Core i3  \n",
       "3               64  Windows 10            NaN  \n",
       "4              NaN         NaN            NaN  "
      ]
     },
     "execution_count": 44,
     "metadata": {},
     "output_type": "execute_result"
    }
   ],
   "source": [
    "clean_df1.head()"
   ]
  },
  {
   "cell_type": "code",
   "execution_count": 45,
   "metadata": {},
   "outputs": [
    {
     "data": {
      "text/plain": [
       "(587, 10)"
      ]
     },
     "execution_count": 45,
     "metadata": {},
     "output_type": "execute_result"
    }
   ],
   "source": [
    "clean_df1.shape"
   ]
  },
  {
   "cell_type": "code",
   "execution_count": 46,
   "metadata": {},
   "outputs": [
    {
     "data": {
      "text/plain": [
       "(720, 10)"
      ]
     },
     "execution_count": 46,
     "metadata": {},
     "output_type": "execute_result"
    }
   ],
   "source": [
    "df.shape"
   ]
  },
  {
   "cell_type": "code",
   "execution_count": 47,
   "metadata": {},
   "outputs": [
    {
     "data": {
      "text/plain": [
       "<Axes: xlabel='Brand', ylabel='MRP'>"
      ]
     },
     "execution_count": 47,
     "metadata": {},
     "output_type": "execute_result"
    },
    {
     "data": {
      "image/png": "[encoded data removed]",
      "text/plain": [
       "<Figure size 640x480 with 1 Axes>"
      ]
     },
     "metadata": {},
     "output_type": "display_data"
    }
   ],
   "source": [
    "sns.boxplot(x = df.Brand, y = df.MRP)"
   ]
  },
  {
   "cell_type": "code",
   "execution_count": 48,
   "metadata": {},
   "outputs": [
    {
     "data": {
      "text/plain": [
       "<Axes: xlabel='Brand', ylabel='count'>"
      ]
     },
     "execution_count": 48,
     "metadata": {},
     "output_type": "execute_result"
    },
    {
     "data": {
      "image/png": "[encoded data removed]",
      "text/plain": [
       "<Figure size 1500x700 with 1 Axes>"
      ]
     },
     "metadata": {},
     "output_type": "display_data"
    }
   ],
   "source": [
    "plt.figure(figsize=(15, 7))\n",
    "sns.countplot(x=df.Brand)"
   ]
  },
  {
   "cell_type": "code",
   "execution_count": 49,
   "metadata": {},
   "outputs": [
    {
     "data": {
      "text/plain": [
       "<Axes: xlabel='Brand'>"
      ]
     },
     "execution_count": 49,
     "metadata": {},
     "output_type": "execute_result"
    },
    {
     "data": {
      "image/png": "[encoded data removed]",
      "text/plain": [
       "<Figure size 640x480 with 1 Axes>"
      ]
     },
     "metadata": {},
     "output_type": "display_data"
    }
   ],
   "source": [
    "df.groupby(['Brand']).agg({'MRP' : ['min', 'max', 'mean']}).plot(kind='bar')"
   ]
  },
  {
   "cell_type": "code",
   "execution_count": 50,
   "metadata": {},
   "outputs": [
    {
     "data": {
      "text/plain": [
       "<Axes: title={'center': 'Minimum Mrp of  Each Laptop'}, xlabel='Brand'>"
      ]
     },
     "execution_count": 50,
     "metadata": {},
     "output_type": "execute_result"
    },
    {
     "data": {
      "image/png": "[encoded data removed]",
      "text/plain": [
       "<Figure size 640x480 with 1 Axes>"
      ]
     },
     "metadata": {},
     "output_type": "display_data"
    }
   ],
   "source": [
    "\n",
    "df.groupby(['Brand'])['MRP'].min().plot(kind = 'bar',title=\"Minimum Mrp of  Each Laptop\")"
   ]
  },
  {
   "cell_type": "code",
   "execution_count": 51,
   "metadata": {},
   "outputs": [
    {
     "data": {
      "text/plain": [
       "<Axes: title={'center': 'Maximum Mrp of  Each Laptop'}, ylabel='Brand'>"
      ]
     },
     "execution_count": 51,
     "metadata": {},
     "output_type": "execute_result"
    },
    {
     "data": {
      "image/png": "[encoded data removed]",
      "text/plain": [
       "<Figure size 640x480 with 1 Axes>"
      ]
     },
     "metadata": {},
     "output_type": "display_data"
    }
   ],
   "source": [
    "df.groupby(['Brand'])['MRP'].max().plot(kind = 'barh',title=\"Maximum Mrp of  Each Laptop\")"
   ]
  },
  {
   "cell_type": "code",
   "execution_count": 52,
   "metadata": {},
   "outputs": [
    {
     "data": {
      "text/plain": [
       "DDR4       521\n",
       "LPDDR4X     36\n",
       "DDR5        14\n",
       "LPDDR4       8\n",
       "LPDDR5       6\n",
       "and          1\n",
       "Name: RAM Type, dtype: int64"
      ]
     },
     "execution_count": 52,
     "metadata": {},
     "output_type": "execute_result"
    }
   ],
   "source": [
    "clean_df1['RAM Type'].value_counts()"
   ]
  },
  {
   "cell_type": "code",
   "execution_count": 53,
   "metadata": {},
   "outputs": [
    {
     "data": {
      "text/plain": [
       "<Axes: title={'center': 'Maximum Mrp of  Each Laptop'}, ylabel='RAM Type'>"
      ]
     },
     "execution_count": 53,
     "metadata": {},
     "output_type": "execute_result"
    },
    {
     "data": {
      "image/png": "[encoded data removed]",
      "text/plain": [
       "<Figure size 640x480 with 1 Axes>"
      ]
     },
     "metadata": {},
     "output_type": "display_data"
    }
   ],
   "source": [
    "df.groupby(['RAM Type'])['MRP'].max().plot(kind = 'barh',title=\"Maximum Mrp of  Each Laptop\")"
   ]
  },
  {
   "cell_type": "code",
   "execution_count": 54,
   "metadata": {},
   "outputs": [
    {
     "data": {
      "text/plain": [
       "<Axes: title={'center': 'Maximum Mrp of  Each Laptop'}, ylabel='device_type'>"
      ]
     },
     "execution_count": 54,
     "metadata": {},
     "output_type": "execute_result"
    },
    {
     "data": {
      "image/png": "[encoded data removed]",
      "text/plain": [
       "<Figure size 640x480 with 1 Axes>"
      ]
     },
     "metadata": {},
     "output_type": "display_data"
    }
   ],
   "source": [
    "df.groupby(['device_type'])['MRP'].max().plot(kind = 'barh',title=\"Maximum Mrp of  Each Laptop\")"
   ]
  },
  {
   "cell_type": "code",
   "execution_count": 55,
   "metadata": {},
   "outputs": [
    {
     "data": {
      "text/html": [
       "<div>\n",
       "<style scoped>\n",
       "    .dataframe tbody tr th:only-of-type {\n",
       "        vertical-align: middle;\n",
       "    }\n",
       "\n",
       "    .dataframe tbody tr th {\n",
       "        vertical-align: top;\n",
       "    }\n",
       "\n",
       "    .dataframe thead th {\n",
       "        text-align: right;\n",
       "    }\n",
       "</style>\n",
       "<table border=\"1\" class=\"dataframe\">\n",
       "  <thead>\n",
       "    <tr style=\"text-align: right;\">\n",
       "      <th></th>\n",
       "      <th>Rating</th>\n",
       "      <th>MRP</th>\n",
       "      <th>Brand</th>\n",
       "      <th>RAM Size</th>\n",
       "      <th>RAM Type</th>\n",
       "      <th>storage</th>\n",
       "      <th>device_type</th>\n",
       "      <th>bit architecture</th>\n",
       "      <th>os</th>\n",
       "      <th>processor</th>\n",
       "    </tr>\n",
       "  </thead>\n",
       "  <tbody>\n",
       "    <tr>\n",
       "      <th>0</th>\n",
       "      <td>4.2</td>\n",
       "      <td>36990.0</td>\n",
       "      <td>Lenovo</td>\n",
       "      <td>8</td>\n",
       "      <td>DDR4</td>\n",
       "      <td>256</td>\n",
       "      <td>SSD</td>\n",
       "      <td>64</td>\n",
       "      <td>Windows 11</td>\n",
       "      <td>Intel Core i3</td>\n",
       "    </tr>\n",
       "    <tr>\n",
       "      <th>1</th>\n",
       "      <td>4.2</td>\n",
       "      <td>39990.0</td>\n",
       "      <td>Lenovo</td>\n",
       "      <td>8</td>\n",
       "      <td>DDR4</td>\n",
       "      <td>512</td>\n",
       "      <td>SSD</td>\n",
       "      <td>64</td>\n",
       "      <td>Windows 11</td>\n",
       "      <td>Intel Core i3</td>\n",
       "    </tr>\n",
       "    <tr>\n",
       "      <th>2</th>\n",
       "      <td>4.3</td>\n",
       "      <td>32990.0</td>\n",
       "      <td>ASUS</td>\n",
       "      <td>8</td>\n",
       "      <td>DDR4</td>\n",
       "      <td>512</td>\n",
       "      <td>SSD</td>\n",
       "      <td>64</td>\n",
       "      <td>Windows 11</td>\n",
       "      <td>Intel Core i3</td>\n",
       "    </tr>\n",
       "    <tr>\n",
       "      <th>3</th>\n",
       "      <td>4.4</td>\n",
       "      <td>49990.0</td>\n",
       "      <td>HP</td>\n",
       "      <td>8</td>\n",
       "      <td>DDR4</td>\n",
       "      <td>512</td>\n",
       "      <td>SSD</td>\n",
       "      <td>64</td>\n",
       "      <td>Windows 10</td>\n",
       "      <td>NaN</td>\n",
       "    </tr>\n",
       "    <tr>\n",
       "      <th>4</th>\n",
       "      <td>4.4</td>\n",
       "      <td>49990.0</td>\n",
       "      <td>ASUS</td>\n",
       "      <td>8</td>\n",
       "      <td>DDR4</td>\n",
       "      <td>512</td>\n",
       "      <td>SSD</td>\n",
       "      <td>NaN</td>\n",
       "      <td>NaN</td>\n",
       "      <td>NaN</td>\n",
       "    </tr>\n",
       "  </tbody>\n",
       "</table>\n",
       "</div>"
      ],
      "text/plain": [
       "   Rating      MRP   Brand RAM Size RAM Type storage device_type  \\\n",
       "0     4.2  36990.0  Lenovo        8     DDR4     256         SSD   \n",
       "1     4.2  39990.0  Lenovo        8     DDR4     512         SSD   \n",
       "2     4.3  32990.0    ASUS        8     DDR4     512         SSD   \n",
       "3     4.4  49990.0      HP        8     DDR4     512         SSD   \n",
       "4     4.4  49990.0    ASUS        8     DDR4     512         SSD   \n",
       "\n",
       "  bit architecture          os      processor  \n",
       "0               64  Windows 11  Intel Core i3  \n",
       "1               64  Windows 11  Intel Core i3  \n",
       "2               64  Windows 11  Intel Core i3  \n",
       "3               64  Windows 10            NaN  \n",
       "4              NaN         NaN            NaN  "
      ]
     },
     "execution_count": 55,
     "metadata": {},
     "output_type": "execute_result"
    }
   ],
   "source": [
    "clean_df1.head()"
   ]
  },
  {
   "cell_type": "code",
   "execution_count": 56,
   "metadata": {},
   "outputs": [
    {
     "data": {
      "text/plain": [
       "<Axes: title={'center': 'Maximum Mrp of  Each Laptop'}, ylabel='storage'>"
      ]
     },
     "execution_count": 56,
     "metadata": {},
     "output_type": "execute_result"
    },
    {
     "data": {
      "image/png": "[encoded data removed]",
      "text/plain": [
       "<Figure size 640x480 with 1 Axes>"
      ]
     },
     "metadata": {},
     "output_type": "display_data"
    }
   ],
   "source": [
    "df.groupby(['storage'])['MRP'].max().plot(kind = 'barh',title=\"Maximum Mrp of  Each Laptop\")"
   ]
  },
  {
   "cell_type": "code",
   "execution_count": 57,
   "metadata": {},
   "outputs": [
    {
     "data": {
      "text/plain": [
       "<Axes: title={'center': 'Maximum Mrp of  Each Laptop'}, ylabel='os'>"
      ]
     },
     "execution_count": 57,
     "metadata": {},
     "output_type": "execute_result"
    },
    {
     "data": {
      "image/png": "[encoded data removed]",
      "text/plain": [
       "<Figure size 640x480 with 1 Axes>"
      ]
     },
     "metadata": {},
     "output_type": "display_data"
    }
   ],
   "source": [
    "df.groupby(['os'])['MRP'].max().plot(kind = 'barh',title=\"Maximum Mrp of  Each Laptop\")"
   ]
  },
  {
   "cell_type": "code",
   "execution_count": 58,
   "metadata": {},
   "outputs": [
    {
     "data": {
      "text/plain": [
       "<Axes: title={'center': 'Maximum Mrp of  Each Laptop'}, ylabel='processor'>"
      ]
     },
     "execution_count": 58,
     "metadata": {},
     "output_type": "execute_result"
    },
    {
     "data": {
      "image/png": "[encoded data removed]",
      "text/plain": [
       "<Figure size 640x480 with 1 Axes>"
      ]
     },
     "metadata": {},
     "output_type": "display_data"
    }
   ],
   "source": [
    "df.groupby(['processor'])['MRP'].max().plot(kind = 'barh',title=\"Maximum Mrp of  Each Laptop\")"
   ]
  },
  {
   "cell_type": "code",
   "execution_count": 59,
   "metadata": {},
   "outputs": [
    {
     "data": {
      "text/plain": [
       "<Axes: >"
      ]
     },
     "execution_count": 59,
     "metadata": {},
     "output_type": "execute_result"
    },
    {
     "data": {
      "image/png": "[encoded data removed]",
      "text/plain": [
       "<Figure size 640x480 with 1 Axes>"
      ]
     },
     "metadata": {},
     "output_type": "display_data"
    }
   ],
   "source": [
    "dfg=clean_df1.groupby('MRP')['Brand'].value_counts\n",
    "df.plot(kind='barh')"
   ]
  },
  {
   "cell_type": "code",
   "execution_count": 60,
   "metadata": {},
   "outputs": [],
   "source": [
    "import pandas as pd\n",
    "from sklearn.model_selection import train_test_split\n",
    "from sklearn.preprocessing import LabelEncoder\n",
    "from sklearn.linear_model import LinearRegression\n",
    "import pickle\n"
   ]
  },
  {
   "cell_type": "code",
   "execution_count": 62,
   "metadata": {},
   "outputs": [
    {
     "data": {
      "text/html": [
       "<div>\n",
       "<style scoped>\n",
       "    .dataframe tbody tr th:only-of-type {\n",
       "        vertical-align: middle;\n",
       "    }\n",
       "\n",
       "    .dataframe tbody tr th {\n",
       "        vertical-align: top;\n",
       "    }\n",
       "\n",
       "    .dataframe thead th {\n",
       "        text-align: right;\n",
       "    }\n",
       "</style>\n",
       "<table border=\"1\" class=\"dataframe\">\n",
       "  <thead>\n",
       "    <tr style=\"text-align: right;\">\n",
       "      <th></th>\n",
       "      <th>Rating</th>\n",
       "      <th>MRP</th>\n",
       "      <th>Brand</th>\n",
       "      <th>RAM Size</th>\n",
       "      <th>RAM Type</th>\n",
       "      <th>storage</th>\n",
       "      <th>device_type</th>\n",
       "      <th>bit architecture</th>\n",
       "      <th>os</th>\n",
       "      <th>processor</th>\n",
       "    </tr>\n",
       "  </thead>\n",
       "  <tbody>\n",
       "    <tr>\n",
       "      <th>0</th>\n",
       "      <td>4.2</td>\n",
       "      <td>36990.0</td>\n",
       "      <td>Lenovo</td>\n",
       "      <td>8</td>\n",
       "      <td>DDR4</td>\n",
       "      <td>256</td>\n",
       "      <td>SSD</td>\n",
       "      <td>64</td>\n",
       "      <td>Windows 11</td>\n",
       "      <td>Intel Core i3</td>\n",
       "    </tr>\n",
       "    <tr>\n",
       "      <th>1</th>\n",
       "      <td>4.2</td>\n",
       "      <td>39990.0</td>\n",
       "      <td>Lenovo</td>\n",
       "      <td>8</td>\n",
       "      <td>DDR4</td>\n",
       "      <td>512</td>\n",
       "      <td>SSD</td>\n",
       "      <td>64</td>\n",
       "      <td>Windows 11</td>\n",
       "      <td>Intel Core i3</td>\n",
       "    </tr>\n",
       "    <tr>\n",
       "      <th>2</th>\n",
       "      <td>4.3</td>\n",
       "      <td>32990.0</td>\n",
       "      <td>ASUS</td>\n",
       "      <td>8</td>\n",
       "      <td>DDR4</td>\n",
       "      <td>512</td>\n",
       "      <td>SSD</td>\n",
       "      <td>64</td>\n",
       "      <td>Windows 11</td>\n",
       "      <td>Intel Core i3</td>\n",
       "    </tr>\n",
       "    <tr>\n",
       "      <th>3</th>\n",
       "      <td>4.4</td>\n",
       "      <td>49990.0</td>\n",
       "      <td>HP</td>\n",
       "      <td>8</td>\n",
       "      <td>DDR4</td>\n",
       "      <td>512</td>\n",
       "      <td>SSD</td>\n",
       "      <td>64</td>\n",
       "      <td>Windows 10</td>\n",
       "      <td>NaN</td>\n",
       "    </tr>\n",
       "    <tr>\n",
       "      <th>4</th>\n",
       "      <td>4.4</td>\n",
       "      <td>49990.0</td>\n",
       "      <td>ASUS</td>\n",
       "      <td>8</td>\n",
       "      <td>DDR4</td>\n",
       "      <td>512</td>\n",
       "      <td>SSD</td>\n",
       "      <td>NaN</td>\n",
       "      <td>NaN</td>\n",
       "      <td>NaN</td>\n",
       "    </tr>\n",
       "  </tbody>\n",
       "</table>\n",
       "</div>"
      ],
      "text/plain": [
       "   Rating      MRP   Brand RAM Size RAM Type storage device_type  \\\n",
       "0     4.2  36990.0  Lenovo        8     DDR4     256         SSD   \n",
       "1     4.2  39990.0  Lenovo        8     DDR4     512         SSD   \n",
       "2     4.3  32990.0    ASUS        8     DDR4     512         SSD   \n",
       "3     4.4  49990.0      HP        8     DDR4     512         SSD   \n",
       "4     4.4  49990.0    ASUS        8     DDR4     512         SSD   \n",
       "\n",
       "  bit architecture          os      processor  \n",
       "0               64  Windows 11  Intel Core i3  \n",
       "1               64  Windows 11  Intel Core i3  \n",
       "2               64  Windows 11  Intel Core i3  \n",
       "3               64  Windows 10            NaN  \n",
       "4              NaN         NaN            NaN  "
      ]
     },
     "execution_count": 62,
     "metadata": {},
     "output_type": "execute_result"
    }
   ],
   "source": [
    "clean_df1.head()"
   ]
  },
  {
   "cell_type": "code",
   "execution_count": 63,
   "metadata": {},
   "outputs": [
    {
     "data": {
      "text/plain": [
       "Rating              float64\n",
       "MRP                 float64\n",
       "Brand                object\n",
       "RAM Size             object\n",
       "RAM Type             object\n",
       "storage              object\n",
       "device_type          object\n",
       "bit architecture     object\n",
       "os                   object\n",
       "processor            object\n",
       "dtype: object"
      ]
     },
     "execution_count": 63,
     "metadata": {},
     "output_type": "execute_result"
    }
   ],
   "source": [
    "clean_df1.dtypes"
   ]
  },
  {
   "cell_type": "code",
   "execution_count": null,
   "metadata": {},
   "outputs": [],
   "source": []
  },
  {
   "cell_type": "code",
   "execution_count": null,
   "metadata": {},
   "outputs": [],
   "source": []
  },
  {
   "cell_type": "code",
   "execution_count": null,
   "metadata": {},
   "outputs": [],
   "source": []
  },
  {
   "cell_type": "code",
   "execution_count": null,
   "metadata": {},
   "outputs": [],
   "source": []
  },
  {
   "cell_type": "code",
   "execution_count": null,
   "metadata": {},
   "outputs": [],
   "source": []
  },
  {
   "cell_type": "code",
   "execution_count": 74,
   "metadata": {},
   "outputs": [
    {
     "name": "stderr",
     "output_type": "stream",
     "text": [
      "C:\\Users\\ASUS\\AppData\\Local\\Temp\\ipykernel_27368\\674212702.py:1: SettingWithCopyWarning: \n",
      "A value is trying to be set on a copy of a slice from a DataFrame.\n",
      "Try using .loc[row_indexer,col_indexer] = value instead\n",
      "\n",
      "See the caveats in the documentation: https://pandas.pydata.org/pandas-docs/stable/user_guide/indexing.html#returning-a-view-versus-a-copy\n",
      "  clean_df1[\"processor_str\"] = clean_df1[\"processor\"].apply(lambda x: x[0] if isinstance(x, str) else '')\n",
      "C:\\Users\\ASUS\\AppData\\Local\\Temp\\ipykernel_27368\\674212702.py:2: SettingWithCopyWarning: \n",
      "A value is trying to be set on a copy of a slice from a DataFrame.\n",
      "Try using .loc[row_indexer,col_indexer] = value instead\n",
      "\n",
      "See the caveats in the documentation: https://pandas.pydata.org/pandas-docs/stable/user_guide/indexing.html#returning-a-view-versus-a-copy\n",
      "  clean_df1[\"RAM Size_str\"] = clean_df1[\"RAM Size\"].apply(lambda x: str(x[0]) if isinstance(x, list) and len(x) > 0 else str(x))\n",
      "C:\\Users\\ASUS\\AppData\\Local\\Temp\\ipykernel_27368\\674212702.py:3: SettingWithCopyWarning: \n",
      "A value is trying to be set on a copy of a slice from a DataFrame.\n",
      "Try using .loc[row_indexer,col_indexer] = value instead\n",
      "\n",
      "See the caveats in the documentation: https://pandas.pydata.org/pandas-docs/stable/user_guide/indexing.html#returning-a-view-versus-a-copy\n",
      "  clean_df1[\"Brand_str\"] = clean_df1[\"Brand\"].apply(lambda x: str(x[0]) if isinstance(x, list) and len(x) > 0 else str(x))\n",
      "C:\\Users\\ASUS\\AppData\\Local\\Temp\\ipykernel_27368\\674212702.py:4: SettingWithCopyWarning: \n",
      "A value is trying to be set on a copy of a slice from a DataFrame.\n",
      "Try using .loc[row_indexer,col_indexer] = value instead\n",
      "\n",
      "See the caveats in the documentation: https://pandas.pydata.org/pandas-docs/stable/user_guide/indexing.html#returning-a-view-versus-a-copy\n",
      "  clean_df1[\"OS_str\"] = clean_df1[\"os\"].apply(lambda x: x[0] if isinstance(x, str) else '')\n",
      "C:\\Users\\ASUS\\AppData\\Local\\Temp\\ipykernel_27368\\674212702.py:5: SettingWithCopyWarning: \n",
      "A value is trying to be set on a copy of a slice from a DataFrame.\n",
      "Try using .loc[row_indexer,col_indexer] = value instead\n",
      "\n",
      "See the caveats in the documentation: https://pandas.pydata.org/pandas-docs/stable/user_guide/indexing.html#returning-a-view-versus-a-copy\n",
      "  clean_df1[\"device_type_str\"] = clean_df1[\"device_type\"].apply(lambda x: x[0] if isinstance(x, str) else '')\n",
      "C:\\Users\\ASUS\\AppData\\Local\\Temp\\ipykernel_27368\\674212702.py:6: SettingWithCopyWarning: \n",
      "A value is trying to be set on a copy of a slice from a DataFrame.\n",
      "Try using .loc[row_indexer,col_indexer] = value instead\n",
      "\n",
      "See the caveats in the documentation: https://pandas.pydata.org/pandas-docs/stable/user_guide/indexing.html#returning-a-view-versus-a-copy\n",
      "  clean_df1[\"bit architecture_str\"] = clean_df1[\"bit architecture\"].apply(lambda x: x[0] if isinstance(x, str) else '')\n",
      "C:\\Users\\ASUS\\AppData\\Local\\Temp\\ipykernel_27368\\674212702.py:7: SettingWithCopyWarning: \n",
      "A value is trying to be set on a copy of a slice from a DataFrame.\n",
      "Try using .loc[row_indexer,col_indexer] = value instead\n",
      "\n",
      "See the caveats in the documentation: https://pandas.pydata.org/pandas-docs/stable/user_guide/indexing.html#returning-a-view-versus-a-copy\n",
      "  clean_df1[\"RAM Type_str\"] = clean_df1[\"RAM Type\"].apply(lambda x: x[0] if isinstance(x, str) else '')\n",
      "C:\\Users\\ASUS\\AppData\\Local\\Temp\\ipykernel_27368\\674212702.py:8: SettingWithCopyWarning: \n",
      "A value is trying to be set on a copy of a slice from a DataFrame.\n",
      "Try using .loc[row_indexer,col_indexer] = value instead\n",
      "\n",
      "See the caveats in the documentation: https://pandas.pydata.org/pandas-docs/stable/user_guide/indexing.html#returning-a-view-versus-a-copy\n",
      "  clean_df1[\"storage_str\"] = clean_df1[\"storage\"].apply(lambda x: x[0] if isinstance(x, str) else '')\n"
     ]
    }
   ],
   "source": [
    "clean_df1[\"processor_str\"] = clean_df1[\"processor\"].apply(lambda x: x[0] if isinstance(x, str) else '')\n",
    "clean_df1[\"RAM Size_str\"] = clean_df1[\"RAM Size\"].apply(lambda x: str(x[0]) if isinstance(x, list) and len(x) > 0 else str(x))\n",
    "clean_df1[\"Brand_str\"] = clean_df1[\"Brand\"].apply(lambda x: str(x[0]) if isinstance(x, list) and len(x) > 0 else str(x))\n",
    "clean_df1[\"OS_str\"] = clean_df1[\"os\"].apply(lambda x: x[0] if isinstance(x, str) else '')\n",
    "clean_df1[\"device_type_str\"] = clean_df1[\"device_type\"].apply(lambda x: x[0] if isinstance(x, str) else '')\n",
    "clean_df1[\"bit architecture_str\"] = clean_df1[\"bit architecture\"].apply(lambda x: x[0] if isinstance(x, str) else '')\n",
    "clean_df1[\"RAM Type_str\"] = clean_df1[\"RAM Type\"].apply(lambda x: x[0] if isinstance(x, str) else '')\n",
    "clean_df1[\"storage_str\"] = clean_df1[\"storage\"].apply(lambda x: x[0] if isinstance(x, str) else '')\n",
    "\n",
    "\n",
    "\n"
   ]
  },
  {
   "cell_type": "code",
   "execution_count": 70,
   "metadata": {},
   "outputs": [
    {
     "data": {
      "text/plain": [
       "Rating                  float64\n",
       "MRP                     float64\n",
       "Brand                    object\n",
       "RAM Size                 object\n",
       "RAM Type                 object\n",
       "storage                  object\n",
       "device_type              object\n",
       "bit architecture         object\n",
       "os                       object\n",
       "processor                object\n",
       "processor_str            object\n",
       "RAM Size_str             object\n",
       "Brand_str                object\n",
       "OS_str                   object\n",
       "device_type_str          object\n",
       "bit architecture_str     object\n",
       "RAM Type_str             object\n",
       "dtype: object"
      ]
     },
     "execution_count": 70,
     "metadata": {},
     "output_type": "execute_result"
    }
   ],
   "source": [
    "clean_df1.dtypes"
   ]
  },
  {
   "cell_type": "code",
   "execution_count": 75,
   "metadata": {},
   "outputs": [
    {
     "name": "stderr",
     "output_type": "stream",
     "text": [
      "C:\\Users\\ASUS\\AppData\\Local\\Temp\\ipykernel_27368\\1671638103.py:5: SettingWithCopyWarning: \n",
      "A value is trying to be set on a copy of a slice from a DataFrame.\n",
      "Try using .loc[row_indexer,col_indexer] = value instead\n",
      "\n",
      "See the caveats in the documentation: https://pandas.pydata.org/pandas-docs/stable/user_guide/indexing.html#returning-a-view-versus-a-copy\n",
      "  clean_df1[\"processorenc\"] = le.fit_transform(clean_df1[\"processor_str\"])\n",
      "C:\\Users\\ASUS\\AppData\\Local\\Temp\\ipykernel_27368\\1671638103.py:6: SettingWithCopyWarning: \n",
      "A value is trying to be set on a copy of a slice from a DataFrame.\n",
      "Try using .loc[row_indexer,col_indexer] = value instead\n",
      "\n",
      "See the caveats in the documentation: https://pandas.pydata.org/pandas-docs/stable/user_guide/indexing.html#returning-a-view-versus-a-copy\n",
      "  clean_df1[\"RAM Size_enc\"] =le.fit_transform(clean_df1[\"RAM Size_str\"])\n",
      "C:\\Users\\ASUS\\AppData\\Local\\Temp\\ipykernel_27368\\1671638103.py:7: SettingWithCopyWarning: \n",
      "A value is trying to be set on a copy of a slice from a DataFrame.\n",
      "Try using .loc[row_indexer,col_indexer] = value instead\n",
      "\n",
      "See the caveats in the documentation: https://pandas.pydata.org/pandas-docs/stable/user_guide/indexing.html#returning-a-view-versus-a-copy\n",
      "  clean_df1[\"Brandenc\"] =le.fit_transform(clean_df1[\"Brand_str\"])\n",
      "C:\\Users\\ASUS\\AppData\\Local\\Temp\\ipykernel_27368\\1671638103.py:8: SettingWithCopyWarning: \n",
      "A value is trying to be set on a copy of a slice from a DataFrame.\n",
      "Try using .loc[row_indexer,col_indexer] = value instead\n",
      "\n",
      "See the caveats in the documentation: https://pandas.pydata.org/pandas-docs/stable/user_guide/indexing.html#returning-a-view-versus-a-copy\n",
      "  clean_df1[\"OSenc\"] = le.fit_transform(clean_df1[\"OS_str\"])\n",
      "C:\\Users\\ASUS\\AppData\\Local\\Temp\\ipykernel_27368\\1671638103.py:9: SettingWithCopyWarning: \n",
      "A value is trying to be set on a copy of a slice from a DataFrame.\n",
      "Try using .loc[row_indexer,col_indexer] = value instead\n",
      "\n",
      "See the caveats in the documentation: https://pandas.pydata.org/pandas-docs/stable/user_guide/indexing.html#returning-a-view-versus-a-copy\n",
      "  clean_df1[\"device_type_enc\"] = le.fit_transform(clean_df1[\"device_type_str\"])\n",
      "C:\\Users\\ASUS\\AppData\\Local\\Temp\\ipykernel_27368\\1671638103.py:10: SettingWithCopyWarning: \n",
      "A value is trying to be set on a copy of a slice from a DataFrame.\n",
      "Try using .loc[row_indexer,col_indexer] = value instead\n",
      "\n",
      "See the caveats in the documentation: https://pandas.pydata.org/pandas-docs/stable/user_guide/indexing.html#returning-a-view-versus-a-copy\n",
      "  clean_df1[\"bit architecture_enc\"] = le.fit_transform(clean_df1[\"bit architecture_str\"])\n",
      "C:\\Users\\ASUS\\AppData\\Local\\Temp\\ipykernel_27368\\1671638103.py:11: SettingWithCopyWarning: \n",
      "A value is trying to be set on a copy of a slice from a DataFrame.\n",
      "Try using .loc[row_indexer,col_indexer] = value instead\n",
      "\n",
      "See the caveats in the documentation: https://pandas.pydata.org/pandas-docs/stable/user_guide/indexing.html#returning-a-view-versus-a-copy\n",
      "  clean_df1[\"RAM Type_enc\"] = le.fit_transform(clean_df1[\"RAM Type_str\"])\n",
      "C:\\Users\\ASUS\\AppData\\Local\\Temp\\ipykernel_27368\\1671638103.py:12: SettingWithCopyWarning: \n",
      "A value is trying to be set on a copy of a slice from a DataFrame.\n",
      "Try using .loc[row_indexer,col_indexer] = value instead\n",
      "\n",
      "See the caveats in the documentation: https://pandas.pydata.org/pandas-docs/stable/user_guide/indexing.html#returning-a-view-versus-a-copy\n",
      "  clean_df1[\"storage_enc\"] = le.fit_transform(clean_df1[\"storage_str\"])\n"
     ]
    }
   ],
   "source": [
    "from sklearn.preprocessing import LabelEncoder, OrdinalEncoder\n",
    "le = LabelEncoder()\n",
    "oe= OrdinalEncoder()\n",
    "\n",
    "clean_df1[\"processorenc\"] = le.fit_transform(clean_df1[\"processor_str\"])\n",
    "clean_df1[\"RAM Size_enc\"] =le.fit_transform(clean_df1[\"RAM Size_str\"])\n",
    "clean_df1[\"Brandenc\"] =le.fit_transform(clean_df1[\"Brand_str\"]) \n",
    "clean_df1[\"OSenc\"] = le.fit_transform(clean_df1[\"OS_str\"])\n",
    "clean_df1[\"device_type_enc\"] = le.fit_transform(clean_df1[\"device_type_str\"])\n",
    "clean_df1[\"bit architecture_enc\"] = le.fit_transform(clean_df1[\"bit architecture_str\"])\n",
    "clean_df1[\"RAM Type_enc\"] = le.fit_transform(clean_df1[\"RAM Type_str\"])\n",
    "clean_df1[\"storage_enc\"] = le.fit_transform(clean_df1[\"storage_str\"])"
   ]
  },
  {
   "cell_type": "code",
   "execution_count": 78,
   "metadata": {},
   "outputs": [
    {
     "data": {
      "text/html": [
       "<div>\n",
       "<style scoped>\n",
       "    .dataframe tbody tr th:only-of-type {\n",
       "        vertical-align: middle;\n",
       "    }\n",
       "\n",
       "    .dataframe tbody tr th {\n",
       "        vertical-align: top;\n",
       "    }\n",
       "\n",
       "    .dataframe thead th {\n",
       "        text-align: right;\n",
       "    }\n",
       "</style>\n",
       "<table border=\"1\" class=\"dataframe\">\n",
       "  <thead>\n",
       "    <tr style=\"text-align: right;\">\n",
       "      <th></th>\n",
       "      <th>Rating</th>\n",
       "      <th>MRP</th>\n",
       "      <th>Brand</th>\n",
       "      <th>RAM Size</th>\n",
       "      <th>RAM Type</th>\n",
       "      <th>storage</th>\n",
       "      <th>device_type</th>\n",
       "      <th>bit architecture</th>\n",
       "      <th>os</th>\n",
       "      <th>processor</th>\n",
       "      <th>...</th>\n",
       "      <th>RAM Type_str</th>\n",
       "      <th>processorenc</th>\n",
       "      <th>RAM Size_enc</th>\n",
       "      <th>Brandenc</th>\n",
       "      <th>OSenc</th>\n",
       "      <th>device_type_enc</th>\n",
       "      <th>bit architecture_enc</th>\n",
       "      <th>RAM Type_enc</th>\n",
       "      <th>storage_str</th>\n",
       "      <th>storage_enc</th>\n",
       "    </tr>\n",
       "  </thead>\n",
       "  <tbody>\n",
       "    <tr>\n",
       "      <th>0</th>\n",
       "      <td>4.2</td>\n",
       "      <td>36990.0</td>\n",
       "      <td>Lenovo</td>\n",
       "      <td>8</td>\n",
       "      <td>DDR4</td>\n",
       "      <td>256</td>\n",
       "      <td>SSD</td>\n",
       "      <td>64</td>\n",
       "      <td>Windows 11</td>\n",
       "      <td>Intel Core i3</td>\n",
       "      <td>...</td>\n",
       "      <td>D</td>\n",
       "      <td>1</td>\n",
       "      <td>3</td>\n",
       "      <td>6</td>\n",
       "      <td>1</td>\n",
       "      <td>2</td>\n",
       "      <td>2</td>\n",
       "      <td>1</td>\n",
       "      <td>2</td>\n",
       "      <td>2</td>\n",
       "    </tr>\n",
       "    <tr>\n",
       "      <th>1</th>\n",
       "      <td>4.2</td>\n",
       "      <td>39990.0</td>\n",
       "      <td>Lenovo</td>\n",
       "      <td>8</td>\n",
       "      <td>DDR4</td>\n",
       "      <td>512</td>\n",
       "      <td>SSD</td>\n",
       "      <td>64</td>\n",
       "      <td>Windows 11</td>\n",
       "      <td>Intel Core i3</td>\n",
       "      <td>...</td>\n",
       "      <td>D</td>\n",
       "      <td>1</td>\n",
       "      <td>3</td>\n",
       "      <td>6</td>\n",
       "      <td>1</td>\n",
       "      <td>2</td>\n",
       "      <td>2</td>\n",
       "      <td>1</td>\n",
       "      <td>5</td>\n",
       "      <td>3</td>\n",
       "    </tr>\n",
       "    <tr>\n",
       "      <th>2</th>\n",
       "      <td>4.3</td>\n",
       "      <td>32990.0</td>\n",
       "      <td>ASUS</td>\n",
       "      <td>8</td>\n",
       "      <td>DDR4</td>\n",
       "      <td>512</td>\n",
       "      <td>SSD</td>\n",
       "      <td>64</td>\n",
       "      <td>Windows 11</td>\n",
       "      <td>Intel Core i3</td>\n",
       "      <td>...</td>\n",
       "      <td>D</td>\n",
       "      <td>1</td>\n",
       "      <td>3</td>\n",
       "      <td>1</td>\n",
       "      <td>1</td>\n",
       "      <td>2</td>\n",
       "      <td>2</td>\n",
       "      <td>1</td>\n",
       "      <td>5</td>\n",
       "      <td>3</td>\n",
       "    </tr>\n",
       "    <tr>\n",
       "      <th>3</th>\n",
       "      <td>4.4</td>\n",
       "      <td>49990.0</td>\n",
       "      <td>HP</td>\n",
       "      <td>8</td>\n",
       "      <td>DDR4</td>\n",
       "      <td>512</td>\n",
       "      <td>SSD</td>\n",
       "      <td>64</td>\n",
       "      <td>Windows 10</td>\n",
       "      <td>NaN</td>\n",
       "      <td>...</td>\n",
       "      <td>D</td>\n",
       "      <td>0</td>\n",
       "      <td>3</td>\n",
       "      <td>4</td>\n",
       "      <td>1</td>\n",
       "      <td>2</td>\n",
       "      <td>2</td>\n",
       "      <td>1</td>\n",
       "      <td>5</td>\n",
       "      <td>3</td>\n",
       "    </tr>\n",
       "    <tr>\n",
       "      <th>4</th>\n",
       "      <td>4.4</td>\n",
       "      <td>49990.0</td>\n",
       "      <td>ASUS</td>\n",
       "      <td>8</td>\n",
       "      <td>DDR4</td>\n",
       "      <td>512</td>\n",
       "      <td>SSD</td>\n",
       "      <td>NaN</td>\n",
       "      <td>NaN</td>\n",
       "      <td>NaN</td>\n",
       "      <td>...</td>\n",
       "      <td>D</td>\n",
       "      <td>0</td>\n",
       "      <td>3</td>\n",
       "      <td>1</td>\n",
       "      <td>0</td>\n",
       "      <td>2</td>\n",
       "      <td>0</td>\n",
       "      <td>1</td>\n",
       "      <td>5</td>\n",
       "      <td>3</td>\n",
       "    </tr>\n",
       "  </tbody>\n",
       "</table>\n",
       "<p>5 rows × 26 columns</p>\n",
       "</div>"
      ],
      "text/plain": [
       "   Rating      MRP   Brand RAM Size RAM Type storage device_type  \\\n",
       "0     4.2  36990.0  Lenovo        8     DDR4     256         SSD   \n",
       "1     4.2  39990.0  Lenovo        8     DDR4     512         SSD   \n",
       "2     4.3  32990.0    ASUS        8     DDR4     512         SSD   \n",
       "3     4.4  49990.0      HP        8     DDR4     512         SSD   \n",
       "4     4.4  49990.0    ASUS        8     DDR4     512         SSD   \n",
       "\n",
       "  bit architecture          os      processor  ... RAM Type_str processorenc  \\\n",
       "0               64  Windows 11  Intel Core i3  ...            D            1   \n",
       "1               64  Windows 11  Intel Core i3  ...            D            1   \n",
       "2               64  Windows 11  Intel Core i3  ...            D            1   \n",
       "3               64  Windows 10            NaN  ...            D            0   \n",
       "4              NaN         NaN            NaN  ...            D            0   \n",
       "\n",
       "  RAM Size_enc Brandenc OSenc device_type_enc bit architecture_enc  \\\n",
       "0            3        6     1               2                    2   \n",
       "1            3        6     1               2                    2   \n",
       "2            3        1     1               2                    2   \n",
       "3            3        4     1               2                    2   \n",
       "4            3        1     0               2                    0   \n",
       "\n",
       "   RAM Type_enc  storage_str  storage_enc  \n",
       "0             1            2            2  \n",
       "1             1            5            3  \n",
       "2             1            5            3  \n",
       "3             1            5            3  \n",
       "4             1            5            3  \n",
       "\n",
       "[5 rows x 26 columns]"
      ]
     },
     "execution_count": 78,
     "metadata": {},
     "output_type": "execute_result"
    }
   ],
   "source": [
    "clean_df1.head()"
   ]
  },
  {
   "cell_type": "code",
   "execution_count": 80,
   "metadata": {},
   "outputs": [
    {
     "data": {
      "text/plain": [
       "Rating                  float64\n",
       "MRP                     float64\n",
       "Brand                    object\n",
       "RAM Size                 object\n",
       "RAM Type                 object\n",
       "storage                  object\n",
       "device_type              object\n",
       "bit architecture         object\n",
       "os                       object\n",
       "processor                object\n",
       "processor_str            object\n",
       "RAM Size_str             object\n",
       "Brand_str                object\n",
       "OS_str                   object\n",
       "device_type_str          object\n",
       "bit architecture_str     object\n",
       "RAM Type_str             object\n",
       "processorenc              int32\n",
       "RAM Size_enc              int32\n",
       "Brandenc                  int32\n",
       "OSenc                     int32\n",
       "device_type_enc           int32\n",
       "bit architecture_enc      int32\n",
       "RAM Type_enc              int32\n",
       "storage_str              object\n",
       "storage_enc               int32\n",
       "dtype: object"
      ]
     },
     "execution_count": 80,
     "metadata": {},
     "output_type": "execute_result"
    }
   ],
   "source": [
    "clean_df1.dtypes"
   ]
  },
  {
   "cell_type": "code",
   "execution_count": 81,
   "metadata": {},
   "outputs": [
    {
     "data": {
      "text/html": [
       "<style>#sk-container-id-1 {color: black;background-color: white;}#sk-container-id-1 pre{padding: 0;}#sk-container-id-1 div.sk-toggleable {background-color: white;}#sk-container-id-1 label.sk-toggleable__label {cursor: pointer;display: block;width: 100%;margin-bottom: 0;padding: 0.3em;box-sizing: border-box;text-align: center;}#sk-container-id-1 label.sk-toggleable__label-arrow:before {content: \"▸\";float: left;margin-right: 0.25em;color: #696969;}#sk-container-id-1 label.sk-toggleable__label-arrow:hover:before {color: black;}#sk-container-id-1 div.sk-estimator:hover label.sk-toggleable__label-arrow:before {color: black;}#sk-container-id-1 div.sk-toggleable__content {max-height: 0;max-width: 0;overflow: hidden;text-align: left;background-color: #f0f8ff;}#sk-container-id-1 div.sk-toggleable__content pre {margin: 0.2em;color: black;border-radius: 0.25em;background-color: #f0f8ff;}#sk-container-id-1 input.sk-toggleable__control:checked~div.sk-toggleable__content {max-height: 200px;max-width: 100%;overflow: auto;}#sk-container-id-1 input.sk-toggleable__control:checked~label.sk-toggleable__label-arrow:before {content: \"▾\";}#sk-container-id-1 div.sk-estimator input.sk-toggleable__control:checked~label.sk-toggleable__label {background-color: #d4ebff;}#sk-container-id-1 div.sk-label input.sk-toggleable__control:checked~label.sk-toggleable__label {background-color: #d4ebff;}#sk-container-id-1 input.sk-hidden--visually {border: 0;clip: rect(1px 1px 1px 1px);clip: rect(1px, 1px, 1px, 1px);height: 1px;margin: -1px;overflow: hidden;padding: 0;position: absolute;width: 1px;}#sk-container-id-1 div.sk-estimator {font-family: monospace;background-color: #f0f8ff;border: 1px dotted black;border-radius: 0.25em;box-sizing: border-box;margin-bottom: 0.5em;}#sk-container-id-1 div.sk-estimator:hover {background-color: #d4ebff;}#sk-container-id-1 div.sk-parallel-item::after {content: \"\";width: 100%;border-bottom: 1px solid gray;flex-grow: 1;}#sk-container-id-1 div.sk-label:hover label.sk-toggleable__label {background-color: #d4ebff;}#sk-container-id-1 div.sk-serial::before {content: \"\";position: absolute;border-left: 1px solid gray;box-sizing: border-box;top: 0;bottom: 0;left: 50%;z-index: 0;}#sk-container-id-1 div.sk-serial {display: flex;flex-direction: column;align-items: center;background-color: white;padding-right: 0.2em;padding-left: 0.2em;position: relative;}#sk-container-id-1 div.sk-item {position: relative;z-index: 1;}#sk-container-id-1 div.sk-parallel {display: flex;align-items: stretch;justify-content: center;background-color: white;position: relative;}#sk-container-id-1 div.sk-item::before, #sk-container-id-1 div.sk-parallel-item::before {content: \"\";position: absolute;border-left: 1px solid gray;box-sizing: border-box;top: 0;bottom: 0;left: 50%;z-index: -1;}#sk-container-id-1 div.sk-parallel-item {display: flex;flex-direction: column;z-index: 1;position: relative;background-color: white;}#sk-container-id-1 div.sk-parallel-item:first-child::after {align-self: flex-end;width: 50%;}#sk-container-id-1 div.sk-parallel-item:last-child::after {align-self: flex-start;width: 50%;}#sk-container-id-1 div.sk-parallel-item:only-child::after {width: 0;}#sk-container-id-1 div.sk-dashed-wrapped {border: 1px dashed gray;margin: 0 0.4em 0.5em 0.4em;box-sizing: border-box;padding-bottom: 0.4em;background-color: white;}#sk-container-id-1 div.sk-label label {font-family: monospace;font-weight: bold;display: inline-block;line-height: 1.2em;}#sk-container-id-1 div.sk-label-container {text-align: center;}#sk-container-id-1 div.sk-container {/* jupyter's `normalize.less` sets `[hidden] { display: none; }` but bootstrap.min.css set `[hidden] { display: none !important; }` so we also need the `!important` here to be able to override the default hidden behavior on the sphinx rendered scikit-learn.org. See: https://github.com/scikit-learn/scikit-learn/issues/21755 */display: inline-block !important;position: relative;}#sk-container-id-1 div.sk-text-repr-fallback {display: none;}</style><div id=\"sk-container-id-1\" class=\"sk-top-container\"><div class=\"sk-text-repr-fallback\"><pre>LinearRegression()</pre><b>In a Jupyter environment, please rerun this cell to show the HTML representation or trust the notebook. <br />On GitHub, the HTML representation is unable to render, please try loading this page with nbviewer.org.</b></div><div class=\"sk-container\" hidden><div class=\"sk-item\"><div class=\"sk-estimator sk-toggleable\"><input class=\"sk-toggleable__control sk-hidden--visually\" id=\"sk-estimator-id-1\" type=\"checkbox\" checked><label for=\"sk-estimator-id-1\" class=\"sk-toggleable__label sk-toggleable__label-arrow\">LinearRegression</label><div class=\"sk-toggleable__content\"><pre>LinearRegression()</pre></div></div></div></div></div>"
      ],
      "text/plain": [
       "LinearRegression()"
      ]
     },
     "execution_count": 81,
     "metadata": {},
     "output_type": "execute_result"
    }
   ],
   "source": [
    "\n",
    "X = clean_df1.drop([\"MRP\",\"Rating\",\"RAM Size_str\",\"Brand\",\"Brand_str\",\"RAM Size\",\"RAM Type\",\"storage\",\"device_type\",\"bit architecture\",\"os\",\"OS_str\",\"processor\",\"processor_str\",\"device_type_str\",\"bit architecture_str\",\"RAM Type_str\",\"storage_str\"], axis=1)\n",
    "y = clean_df1[\"MRP\"]\n",
    "\n",
    "\n",
    "# Train a random forest regressor model\n",
    "model = LinearRegression()\n",
    "model.fit(X, y)"
   ]
  },
  {
   "cell_type": "code",
   "execution_count": 82,
   "metadata": {},
   "outputs": [
    {
     "data": {
      "text/plain": [
       "0       36990.0\n",
       "1       39990.0\n",
       "2       32990.0\n",
       "3       49990.0\n",
       "4       49990.0\n",
       "         ...   \n",
       "714     90000.0\n",
       "715     23490.0\n",
       "716     73490.0\n",
       "718    125990.0\n",
       "719     50990.0\n",
       "Name: MRP, Length: 587, dtype: float64"
      ]
     },
     "execution_count": 82,
     "metadata": {},
     "output_type": "execute_result"
    }
   ],
   "source": [
    "st.title(\"Laptop Price Predictor\")\n",
    "from sklearn.preprocessing import LabelEncoder, OrdinalEncoder\n",
    "ram_type = st.selectbox(\"RAM Type\", df[\"RAM Type\"].unique())\n",
    "Storage = st.selectbox(\"HDD Size (GB)\", df['storage'].unique())\n",
    "os_type = st.selectbox(\"OS Type\",df[\"os\"].unique())\n",
    "Bit_architecture = st.selectbox(\"Bit_Architecture\",df[\"bit architecture\"].unique())\n",
    "\n",
    "brand = st.selectbox(\"Brand\", df[\"Brand\"].unique())\n",
    "processor=st.selectbox(\"Processor\",df[\"processor\"].unique())\n",
    "ram_type = st.selectbox(\"RAM Type\", df[\"ram_type = st.selectbox(\"RAM Type\", df[\"RAM Type\"].unique())\"].unique()) = le.transform([ram_type])[:]\n",
    "ram_type = st.selectbox(\"RAM Type\", df[\"RAM Type\"].unique())\n",
    "os_type_encoded = le.transform([os_type])[:]\n",
    "brand_encoded = le.transform([brand])[:]\n",
    "if st.button(\"Predict Price\"):\n",
    "    prediction = model.predict([ram_type_encoded, os_type_encoded, brand_encoded])[0]\n",
    "    st.success(f\"The estimated laptop price is Rs. {round(prediction, 2)}\")"
   ]
  },
  {
   "cell_type": "code",
   "execution_count": 83,
   "metadata": {},
   "outputs": [
    {
     "data": {
      "text/html": [
       "<div>\n",
       "<style scoped>\n",
       "    .dataframe tbody tr th:only-of-type {\n",
       "        vertical-align: middle;\n",
       "    }\n",
       "\n",
       "    .dataframe tbody tr th {\n",
       "        vertical-align: top;\n",
       "    }\n",
       "\n",
       "    .dataframe thead th {\n",
       "        text-align: right;\n",
       "    }\n",
       "</style>\n",
       "<table border=\"1\" class=\"dataframe\">\n",
       "  <thead>\n",
       "    <tr style=\"text-align: right;\">\n",
       "      <th></th>\n",
       "      <th>Rating</th>\n",
       "      <th>MRP</th>\n",
       "      <th>Brand</th>\n",
       "      <th>RAM Size</th>\n",
       "      <th>RAM Type</th>\n",
       "      <th>storage</th>\n",
       "      <th>device_type</th>\n",
       "      <th>bit architecture</th>\n",
       "      <th>os</th>\n",
       "      <th>processor</th>\n",
       "      <th>...</th>\n",
       "      <th>RAM Type_str</th>\n",
       "      <th>processorenc</th>\n",
       "      <th>RAM Size_enc</th>\n",
       "      <th>Brandenc</th>\n",
       "      <th>OSenc</th>\n",
       "      <th>device_type_enc</th>\n",
       "      <th>bit architecture_enc</th>\n",
       "      <th>RAM Type_enc</th>\n",
       "      <th>storage_str</th>\n",
       "      <th>storage_enc</th>\n",
       "    </tr>\n",
       "  </thead>\n",
       "  <tbody>\n",
       "    <tr>\n",
       "      <th>0</th>\n",
       "      <td>4.2</td>\n",
       "      <td>36990.0</td>\n",
       "      <td>Lenovo</td>\n",
       "      <td>8</td>\n",
       "      <td>DDR4</td>\n",
       "      <td>256</td>\n",
       "      <td>SSD</td>\n",
       "      <td>64</td>\n",
       "      <td>Windows 11</td>\n",
       "      <td>Intel Core i3</td>\n",
       "      <td>...</td>\n",
       "      <td>D</td>\n",
       "      <td>1</td>\n",
       "      <td>3</td>\n",
       "      <td>6</td>\n",
       "      <td>1</td>\n",
       "      <td>2</td>\n",
       "      <td>2</td>\n",
       "      <td>1</td>\n",
       "      <td>2</td>\n",
       "      <td>2</td>\n",
       "    </tr>\n",
       "    <tr>\n",
       "      <th>1</th>\n",
       "      <td>4.2</td>\n",
       "      <td>39990.0</td>\n",
       "      <td>Lenovo</td>\n",
       "      <td>8</td>\n",
       "      <td>DDR4</td>\n",
       "      <td>512</td>\n",
       "      <td>SSD</td>\n",
       "      <td>64</td>\n",
       "      <td>Windows 11</td>\n",
       "      <td>Intel Core i3</td>\n",
       "      <td>...</td>\n",
       "      <td>D</td>\n",
       "      <td>1</td>\n",
       "      <td>3</td>\n",
       "      <td>6</td>\n",
       "      <td>1</td>\n",
       "      <td>2</td>\n",
       "      <td>2</td>\n",
       "      <td>1</td>\n",
       "      <td>5</td>\n",
       "      <td>3</td>\n",
       "    </tr>\n",
       "    <tr>\n",
       "      <th>2</th>\n",
       "      <td>4.3</td>\n",
       "      <td>32990.0</td>\n",
       "      <td>ASUS</td>\n",
       "      <td>8</td>\n",
       "      <td>DDR4</td>\n",
       "      <td>512</td>\n",
       "      <td>SSD</td>\n",
       "      <td>64</td>\n",
       "      <td>Windows 11</td>\n",
       "      <td>Intel Core i3</td>\n",
       "      <td>...</td>\n",
       "      <td>D</td>\n",
       "      <td>1</td>\n",
       "      <td>3</td>\n",
       "      <td>1</td>\n",
       "      <td>1</td>\n",
       "      <td>2</td>\n",
       "      <td>2</td>\n",
       "      <td>1</td>\n",
       "      <td>5</td>\n",
       "      <td>3</td>\n",
       "    </tr>\n",
       "    <tr>\n",
       "      <th>3</th>\n",
       "      <td>4.4</td>\n",
       "      <td>49990.0</td>\n",
       "      <td>HP</td>\n",
       "      <td>8</td>\n",
       "      <td>DDR4</td>\n",
       "      <td>512</td>\n",
       "      <td>SSD</td>\n",
       "      <td>64</td>\n",
       "      <td>Windows 10</td>\n",
       "      <td>NaN</td>\n",
       "      <td>...</td>\n",
       "      <td>D</td>\n",
       "      <td>0</td>\n",
       "      <td>3</td>\n",
       "      <td>4</td>\n",
       "      <td>1</td>\n",
       "      <td>2</td>\n",
       "      <td>2</td>\n",
       "      <td>1</td>\n",
       "      <td>5</td>\n",
       "      <td>3</td>\n",
       "    </tr>\n",
       "    <tr>\n",
       "      <th>4</th>\n",
       "      <td>4.4</td>\n",
       "      <td>49990.0</td>\n",
       "      <td>ASUS</td>\n",
       "      <td>8</td>\n",
       "      <td>DDR4</td>\n",
       "      <td>512</td>\n",
       "      <td>SSD</td>\n",
       "      <td>NaN</td>\n",
       "      <td>NaN</td>\n",
       "      <td>NaN</td>\n",
       "      <td>...</td>\n",
       "      <td>D</td>\n",
       "      <td>0</td>\n",
       "      <td>3</td>\n",
       "      <td>1</td>\n",
       "      <td>0</td>\n",
       "      <td>2</td>\n",
       "      <td>0</td>\n",
       "      <td>1</td>\n",
       "      <td>5</td>\n",
       "      <td>3</td>\n",
       "    </tr>\n",
       "  </tbody>\n",
       "</table>\n",
       "<p>5 rows × 26 columns</p>\n",
       "</div>"
      ],
      "text/plain": [
       "   Rating      MRP   Brand RAM Size RAM Type storage device_type  \\\n",
       "0     4.2  36990.0  Lenovo        8     DDR4     256         SSD   \n",
       "1     4.2  39990.0  Lenovo        8     DDR4     512         SSD   \n",
       "2     4.3  32990.0    ASUS        8     DDR4     512         SSD   \n",
       "3     4.4  49990.0      HP        8     DDR4     512         SSD   \n",
       "4     4.4  49990.0    ASUS        8     DDR4     512         SSD   \n",
       "\n",
       "  bit architecture          os      processor  ... RAM Type_str processorenc  \\\n",
       "0               64  Windows 11  Intel Core i3  ...            D            1   \n",
       "1               64  Windows 11  Intel Core i3  ...            D            1   \n",
       "2               64  Windows 11  Intel Core i3  ...            D            1   \n",
       "3               64  Windows 10            NaN  ...            D            0   \n",
       "4              NaN         NaN            NaN  ...            D            0   \n",
       "\n",
       "  RAM Size_enc Brandenc OSenc device_type_enc bit architecture_enc  \\\n",
       "0            3        6     1               2                    2   \n",
       "1            3        6     1               2                    2   \n",
       "2            3        1     1               2                    2   \n",
       "3            3        4     1               2                    2   \n",
       "4            3        1     0               2                    0   \n",
       "\n",
       "   RAM Type_enc  storage_str  storage_enc  \n",
       "0             1            2            2  \n",
       "1             1            5            3  \n",
       "2             1            5            3  \n",
       "3             1            5            3  \n",
       "4             1            5            3  \n",
       "\n",
       "[5 rows x 26 columns]"
      ]
     },
     "execution_count": 83,
     "metadata": {},
     "output_type": "execute_result"
    }
   ],
   "source": [
    "clean_df1.head()"
   ]
  },
  {
   "cell_type": "code",
   "execution_count": null,
   "metadata": {},
   "outputs": [],
   "source": []
  }
 ],
 "metadata": {
  "kernelspec": {
   "display_name": "Python 3",
   "language": "python",
   "name": "python3"
  },
  "language_info": {
   "codemirror_mode": {
    "name": "ipython",
    "version": 3
   },
   "file_extension": ".py",
   "mimetype": "text/x-python",
   "name": "python",
   "nbconvert_exporter": "python",
   "pygments_lexer": "ipython3",
   "version": "3.11.2"
  },
  "orig_nbformat": 4
 },
 "nbformat": 4,
 "nbformat_minor": 2
}
